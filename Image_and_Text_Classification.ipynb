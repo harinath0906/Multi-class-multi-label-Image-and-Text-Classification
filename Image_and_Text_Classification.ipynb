{
 "cells": [
  {
   "cell_type": "markdown",
   "metadata": {
    "colab_type": "text",
    "id": "gDomcvK3JUbe"
   },
   "source": [
    "# Steps for Execution"
   ]
  },
  {
   "cell_type": "markdown",
   "metadata": {
    "colab_type": "text",
    "id": "ltsLB0ixJWx8"
   },
   "source": [
    "\n",
    "\n",
    "1. Place the following files in \"code\\input\" folder\n",
    "  *   train.csv\n",
    "  *   test.csv\n",
    "  *   dataset.zip - all images in it\n",
    "2. Update PATH_TO_CODE_FOLDER in \"Inputs and hyperparameters\" section.\n",
    "3. Run all the cells, if this code is executed in colab.\n",
    "4. Run all the cells except \"Mount Google Drive\", if this code is executed in not colab.\n",
    "\n",
    "Irrespective of the number of epochs the code will save and use the weights for one with highest validation f1-score.\n",
    "\n"
   ]
  },
  {
   "cell_type": "markdown",
   "metadata": {
    "colab_type": "text",
    "id": "biFN1p0edIDm"
   },
   "source": [
    "# Import Libraries"
   ]
  },
  {
   "cell_type": "code",
   "execution_count": 1,
   "metadata": {
    "colab": {
     "base_uri": "https://localhost:8080/",
     "height": 74
    },
    "colab_type": "code",
    "id": "pMNv06cuX947",
    "outputId": "b8698d2d-e868-467f-be12-c1062c8fb159"
   },
   "outputs": [
    {
     "name": "stderr",
     "output_type": "stream",
     "text": [
      "/usr/local/lib/python3.6/dist-packages/statsmodels/tools/_testing.py:19: FutureWarning: pandas.util.testing is deprecated. Use the functions in the public API at pandas.testing instead.\n",
      "  import pandas.util.testing as tm\n"
     ]
    }
   ],
   "source": [
    "# Data process\n",
    "import pandas as pd\n",
    "import numpy as np\n",
    "\n",
    "# Graphing\n",
    "import seaborn as sns\n",
    "import matplotlib.pyplot as plt\n",
    "%matplotlib inline\n",
    "\n",
    "\n",
    "# Image loading\n",
    "from PIL import Image\n",
    "import glob\n",
    "from numpy import asarray\n",
    "\n",
    "# Output\n",
    "from sys import stdout\n",
    "import csv\n",
    "import copy\n",
    "from random import seed\n",
    "from random import randint\n",
    "import random\n",
    "import time\n",
    "import datetime\n",
    "import zipfile\n",
    "#from tqdm import tqdm\n",
    "\n",
    "import torch\n",
    "from torch import nn\n",
    "from torch import optim\n",
    "import torch.nn.functional as F\n",
    "from torchvision import datasets, transforms, models\n",
    "\n",
    "import torch.utils.model_zoo as model_zoo\n",
    "from tqdm import tqdm\n",
    "from skimage.transform import rotate\n",
    "from skimage.util import random_noise\n",
    "from sklearn.metrics import f1_score"
   ]
  },
  {
   "cell_type": "markdown",
   "metadata": {
    "colab_type": "text",
    "id": "5sHbdudgoffp"
   },
   "source": [
    "## Mount Goole Drive (only for colab)"
   ]
  },
  {
   "cell_type": "markdown",
   "metadata": {
    "colab_type": "text",
    "id": "kV9s64_goj11"
   },
   "source": [
    "Please execute this cell only for google colab."
   ]
  },
  {
   "cell_type": "code",
   "execution_count": 2,
   "metadata": {
    "colab": {
     "base_uri": "https://localhost:8080/",
     "height": 131
    },
    "colab_type": "code",
    "id": "T600aCZ00Hk2",
    "outputId": "aeb4d7d8-6933-48fe-fbd1-f52872d5a055"
   },
   "outputs": [
    {
     "name": "stdout",
     "output_type": "stream",
     "text": [
      "Go to this URL in a browser: https://accounts.google.com/o/oauth2/auth?client_id=947318989803-6bn6qk8qdgf4n4g3pfee6491hc0brc4i.apps.googleusercontent.com&redirect_uri=urn%3aietf%3awg%3aoauth%3a2.0%3aoob&response_type=code&scope=email%20https%3a%2f%2fwww.googleapis.com%2fauth%2fdocs.test%20https%3a%2f%2fwww.googleapis.com%2fauth%2fdrive%20https%3a%2f%2fwww.googleapis.com%2fauth%2fdrive.photos.readonly%20https%3a%2f%2fwww.googleapis.com%2fauth%2fpeopleapi.readonly\n",
      "\n",
      "Enter your authorization code:\n",
      "··········\n",
      "Mounted at /content/drive\n"
     ]
    }
   ],
   "source": [
    "from google.colab import drive\n",
    "drive.mount('/content/drive')"
   ]
  },
  {
   "cell_type": "markdown",
   "metadata": {
    "colab_type": "text",
    "id": "sdTVTJGZ2CC5"
   },
   "source": [
    "# Inputs and hyper parameters"
   ]
  },
  {
   "cell_type": "code",
   "execution_count": 0,
   "metadata": {
    "colab": {},
    "colab_type": "code",
    "id": "4VG2U9ERXNdA"
   },
   "outputs": [],
   "source": [
    "PATH_TO_CODE_FOLDER = \"/content/drive/My Drive/Code\"\n",
    "VALIDATION_SET_SIZE = 0.10\n",
    "\n",
    "#CNN inputs\n",
    "CNN_BATCH_SIZE = 128\n",
    "CNN_EPOCHS = 15\n",
    "CNN_LEARNING_RATE = 0.0001 #0.0001\n",
    "\n",
    "#BILSTM inputs\n",
    "BILSTM_HIDDEN_DIM = 50\n",
    "BILSTM_EPOCHS = 200\n",
    "BILSTM_LEARNINGRATE=0.02\n",
    "BITSTM_BATCHSIZE = 250\n",
    "\n",
    "#Combined NN inputs\n",
    "BATCHSIZE_COMBINEDNN= 1000\n",
    "EPOCH_COMBINEDNN = 80\n",
    "HIDDEN_COMBINEDNN = 2000\n",
    "LEARNINGRATE_COMBINEDNN = 0.02\n",
    "PATIENCE = 2"
   ]
  },
  {
   "cell_type": "code",
   "execution_count": 4,
   "metadata": {
    "colab": {
     "base_uri": "https://localhost:8080/",
     "height": 74
    },
    "colab_type": "code",
    "id": "PlY38Tjz0Dxw",
    "outputId": "a3e45998-deec-4dbe-a17d-f847bf1b1b1b"
   },
   "outputs": [
    {
     "name": "stderr",
     "output_type": "stream",
     "text": [
      "/usr/local/lib/python3.6/dist-packages/ipykernel_launcher.py:1: FutureWarning: Passing a negative integer is deprecated in version 1.0 and will not be supported in future version. Instead, use None to not limit the column width.\n",
      "  \"\"\"Entry point for launching an IPython kernel.\n"
     ]
    }
   ],
   "source": [
    "pd.set_option('display.max_colwidth', -1)\n",
    "if (not PATH_TO_CODE_FOLDER.endswith('/')):\n",
    "    PATH_TO_CODE_FOLDER+=\"/\""
   ]
  },
  {
   "cell_type": "markdown",
   "metadata": {
    "colab_type": "text",
    "id": "8Q7FhE08dPlf"
   },
   "source": [
    "# Load Dataset"
   ]
  },
  {
   "cell_type": "markdown",
   "metadata": {
    "colab_type": "text",
    "id": "Axxo5tGrgUVn"
   },
   "source": [
    "## Load Training Data"
   ]
  },
  {
   "cell_type": "code",
   "execution_count": 5,
   "metadata": {
    "colab": {
     "base_uri": "https://localhost:8080/",
     "height": 54
    },
    "colab_type": "code",
    "id": "D8b5_OR1L4JU",
    "outputId": "50d4a83d-bcdd-41f1-8b7a-3e80339d015b"
   },
   "outputs": [
    {
     "name": "stderr",
     "output_type": "stream",
     "text": [
      "  0%|          | 53/30001 [00:00<01:54, 261.10it/s]"
     ]
    },
    {
     "name": "stdout",
     "output_type": "stream",
     "text": [
      "Loading training data.\n"
     ]
    },
    {
     "name": "stderr",
     "output_type": "stream",
     "text": [
      "100%|██████████| 30001/30001 [02:15<00:00, 221.88it/s]\n"
     ]
    }
   ],
   "source": [
    "train_file = open(PATH_TO_CODE_FOLDER+'input/train.csv',\"r+\").read()\n",
    "colnames = train_file.split(\"\\n\")[0]\n",
    "\n",
    "traindata_lines =  train_file.split(colnames)[1].split(\"\\\"\\n\")\n",
    "train=pd.DataFrame(columns=colnames.split(\",\"))\n",
    "\n",
    "print(\"Loading training data.\")\n",
    "for idx in  tqdm(range(len(traindata_lines))):\n",
    "    if traindata_lines[idx].strip() == \"\":\n",
    "        continue\n",
    "    templist = []\n",
    "    try:\n",
    "        index1 = traindata_lines[idx].index(\",\")\n",
    "        index2 = traindata_lines[idx].index(\",\\\"\")\n",
    "    except:\n",
    "        print(\"skipping\",traindata_lines[idx])\n",
    "    templist.append(traindata_lines[idx][0:index1].strip())\n",
    "    templist.append(traindata_lines[idx][index1+1:index2])\n",
    "    templist.append(traindata_lines[idx][index2+1:len(traindata_lines)].strip(\"\\\"\"))\n",
    "    train.loc[len(train)]=templist\n"
   ]
  },
  {
   "cell_type": "markdown",
   "metadata": {
    "colab_type": "text",
    "id": "6l_hjiobbNfC"
   },
   "source": [
    "## Load Test Data"
   ]
  },
  {
   "cell_type": "code",
   "execution_count": 6,
   "metadata": {
    "colab": {
     "base_uri": "https://localhost:8080/",
     "height": 54
    },
    "colab_type": "code",
    "id": "rvtWe9cLbL5b",
    "outputId": "3f5d95fc-a8c7-4960-f177-da6e861b02bf"
   },
   "outputs": [
    {
     "name": "stderr",
     "output_type": "stream",
     "text": [
      "  0%|          | 26/10001 [00:00<00:40, 248.82it/s]"
     ]
    },
    {
     "name": "stdout",
     "output_type": "stream",
     "text": [
      "Loading test data.\n"
     ]
    },
    {
     "name": "stderr",
     "output_type": "stream",
     "text": [
      "100%|██████████| 10001/10001 [00:35<00:00, 280.15it/s]\n"
     ]
    }
   ],
   "source": [
    "test_file = open(PATH_TO_CODE_FOLDER+'input/test.csv',\"r+\")  \n",
    "  \n",
    "testdata_lines =  test_file.read().split(\"\\n\")\n",
    "\n",
    "\n",
    "test=pd.DataFrame(columns=testdata_lines[0].split(\",\"))\n",
    "\n",
    "print(\"Loading test data.\")\n",
    "for i in tqdm(range(1,len(testdata_lines))):\n",
    "    if testdata_lines[i].strip() == \"\":\n",
    "        continue\n",
    "    templist = []\n",
    "    eachline = testdata_lines[i].split(\",\\\"\")\n",
    "    try:\n",
    "        templist.append(eachline[0].strip())\n",
    "        templist.append(eachline[1].strip(\"\\\"\"))\n",
    "    except:\n",
    "        print(eachline)\n",
    "    test.loc[len(test)]=templist\n",
    "    "
   ]
  },
  {
   "cell_type": "markdown",
   "metadata": {
    "colab_type": "text",
    "id": "T68CzKLa0DyO"
   },
   "source": [
    "## Load Images"
   ]
  },
  {
   "cell_type": "code",
   "execution_count": 7,
   "metadata": {
    "colab": {
     "base_uri": "https://localhost:8080/",
     "height": 92
    },
    "colab_type": "code",
    "id": "FuT0k-Mv0DyP",
    "outputId": "68ee6dfe-57dd-49ff-9b00-7fa25f6177d0"
   },
   "outputs": [
    {
     "name": "stdout",
     "output_type": "stream",
     "text": [
      "Loading images: \n"
     ]
    },
    {
     "name": "stderr",
     "output_type": "stream",
     "text": [
      "100%|██████████| 40002/40002 [01:22<00:00, 484.12it/s]"
     ]
    },
    {
     "name": "stdout",
     "output_type": "stream",
     "text": [
      "\n",
      "Images loaded : 40000\n"
     ]
    },
    {
     "name": "stderr",
     "output_type": "stream",
     "text": [
      "\n"
     ]
    }
   ],
   "source": [
    "print(\"Loading images: \")\n",
    "\n",
    "image_dict = {} # Stores values with the filename as the key\n",
    "\n",
    "\n",
    "with zipfile.ZipFile(PATH_TO_CODE_FOLDER+'input/dataset.zip') as archive:\n",
    "    images_len = len(archive.infolist())\n",
    "    #print(images_len)\n",
    "    images_load = images_len/100\n",
    "    load_count = 0 # 1-100\n",
    "    image_count = 0 # 1-40,000\n",
    "    for entry in tqdm(archive.infolist()):\n",
    "        if entry.filename.lower().endswith(\".jpg\"):            \n",
    "            with archive.open(entry) as file:\n",
    "                #print(file)\n",
    "                pic = Image.open(file)\n",
    "                #print(img.size, img.mode, len(img.getdata()))\n",
    "                pic_values = asarray(pic) # convert image to array of values\n",
    "                tempname = entry.filename.replace(\"/\",\"\\\\\").split(\"\\\\\")\n",
    "                key = tempname[len(tempname)-1]\n",
    "                image_dict[key] = pic_values\n",
    "                #if (image_count % images_load == 0):\n",
    "                #    load_count += 1\n",
    "                #    stdout.write(\"\\r%d\" % load_count)\n",
    "                #    stdout.write(\"%\")\n",
    "                #   stdout.flush()\n",
    "                image_count += 1\n",
    "\n",
    "print(\"\\nImages loaded :\",len(image_dict))"
   ]
  },
  {
   "cell_type": "markdown",
   "metadata": {
    "colab_type": "text",
    "id": "oZE5H7YZ2sNP"
   },
   "source": [
    "# CNN - Preparation and Training"
   ]
  },
  {
   "cell_type": "markdown",
   "metadata": {
    "colab_type": "text",
    "id": "sA8-GgDv2y5t"
   },
   "source": [
    "## Training and Validation Split"
   ]
  },
  {
   "cell_type": "code",
   "execution_count": 8,
   "metadata": {
    "colab": {
     "base_uri": "https://localhost:8080/",
     "height": 54
    },
    "colab_type": "code",
    "id": "8IENKe7kaI0F",
    "outputId": "033271dc-84d1-4b29-e8c4-3519b689547c"
   },
   "outputs": [
    {
     "name": "stdout",
     "output_type": "stream",
     "text": [
      "Validation_Data Length: 3000\n",
      "Train_Data Length: 27000\n"
     ]
    }
   ],
   "source": [
    "\n",
    "from sklearn.model_selection import train_test_split\n",
    "train_df,val_df = train_test_split(train, test_size=VALIDATION_SET_SIZE)\n",
    "train_df = train_df.reset_index(drop=True)\n",
    "val_df = val_df.reset_index(drop=True)\n",
    "print(f\"Validation_Data Length: {len(val_df)}\\nTrain_Data Length: {len(train_df)}\")"
   ]
  },
  {
   "cell_type": "markdown",
   "metadata": {
    "colab_type": "text",
    "id": "bqd7SpnrlvN8"
   },
   "source": [
    "## Image Transformations"
   ]
  },
  {
   "cell_type": "code",
   "execution_count": 0,
   "metadata": {
    "colab": {},
    "colab_type": "code",
    "id": "t2KcNZWc0vDi"
   },
   "outputs": [],
   "source": [
    "data_transforms = transforms.Compose([\n",
    "        transforms.Resize((256,256)),\n",
    "        transforms.RandomResizedCrop(224),\n",
    "        transforms.RandomHorizontalFlip(),\n",
    "        transforms.RandomVerticalFlip(),   \n",
    "        transforms.ToTensor(),\n",
    "        transforms.Normalize([0.485, 0.456, 0.406], [0.229, 0.224, 0.225]) \n",
    "       \n",
    "    ])\n",
    "\n",
    "data_test_transforms = transforms.Compose([\n",
    "        #transforms.Resize(256),\n",
    "        transforms.Resize((224,224)),\n",
    "        transforms.ToTensor(),\n",
    "        transforms.Normalize([0.485, 0.456, 0.406], [0.229, 0.224, 0.225])\n",
    "    ])"
   ]
  },
  {
   "cell_type": "markdown",
   "metadata": {
    "colab_type": "text",
    "id": "2K3DbyG33C2a"
   },
   "source": [
    "## Label preprocessing"
   ]
  },
  {
   "cell_type": "code",
   "execution_count": 10,
   "metadata": {
    "colab": {
     "base_uri": "https://localhost:8080/",
     "height": 54
    },
    "colab_type": "code",
    "id": "MF4HknrKXNe6",
    "outputId": "d3dea67a-f67e-4c7b-8f83-e667936756c3"
   },
   "outputs": [
    {
     "name": "stdout",
     "output_type": "stream",
     "text": [
      "[ 1  2  3  4  5  6  7  8  9 10 11 13 14 15 16 17 18 19]\n",
      "Number of unique labels : 18\n"
     ]
    }
   ],
   "source": [
    "all_single_labels= []\n",
    "all_single_labels += [int(x) for lst in [eachlab.split(\" \") for eachlab in train.Labels] for x in lst] \n",
    "unique_labels = np.unique(all_single_labels)\n",
    "print(unique_labels)\n",
    "#print(len(unique_labels))\n",
    "\n",
    "#output_dim =max(unique_labels)+1\n",
    "#print(output_dim)\n",
    "\n",
    "label_to_index = {n: i for i, n in enumerate(unique_labels)}\n",
    "index_to_label = {i: n for i, n in enumerate(unique_labels)}\n",
    "#print(index_to_label)\n",
    "#print(label_to_index)\n",
    "output_dim = len(label_to_index)\n",
    "print(\"Number of unique labels :\",output_dim)"
   ]
  },
  {
   "cell_type": "code",
   "execution_count": 11,
   "metadata": {
    "colab": {
     "base_uri": "https://localhost:8080/",
     "height": 299
    },
    "colab_type": "code",
    "id": "9l9tH_xU-4lp",
    "outputId": "eb565dd8-7299-4f2f-d7d7-8e589890d147"
   },
   "outputs": [
    {
     "data": {
      "image/png": "[encoded data removed]",
      "text/plain": [
       "<Figure size 432x288 with 1 Axes>"
      ]
     },
     "metadata": {
      "tags": []
     },
     "output_type": "display_data"
    }
   ],
   "source": [
    "import matplotlib.pyplot as plt\n",
    "\n",
    "%matplotlib inline\n",
    "plt.style.use('ggplot')\n",
    "plt.hist(all_single_labels,bins=unique_labels)\n",
    "plt.title(\"Distribution of labels\")\n",
    "plt.ylabel('Count')\n",
    "plt.xlabel('Labels')\n",
    "plt.xticks(unique_labels)\n",
    "plt.show()"
   ]
  },
  {
   "cell_type": "code",
   "execution_count": 0,
   "metadata": {
    "colab": {},
    "colab_type": "code",
    "id": "GPAH_r2g0Dyo"
   },
   "outputs": [],
   "source": [
    "seed=27\n",
    "\n",
    "random.seed(seed)\n",
    "np.random.seed(seed)\n",
    "torch.manual_seed(seed)\n",
    "torch.cuda.manual_seed(seed)\n",
    "torch.backends.cudnn.deterministic = True"
   ]
  },
  {
   "cell_type": "markdown",
   "metadata": {
    "colab_type": "text",
    "id": "BrpH2piS3MlX"
   },
   "source": [
    "## Custom Image Dataset"
   ]
  },
  {
   "cell_type": "code",
   "execution_count": 0,
   "metadata": {
    "colab": {},
    "colab_type": "code",
    "id": "oJ0IkghyXNfO"
   },
   "outputs": [],
   "source": [
    "\n",
    "\n",
    "from torch.utils import data\n",
    "class ImageData(data.Dataset):\n",
    "    def __init__(self,df,transform,test = False):\n",
    "        self.df = df\n",
    "        self.test = test\n",
    "        self.conv_to_tensor = transform\n",
    "        self.image_arr = self.df.iloc[:, 0] #File Name of images\n",
    "        if not self.test:  #No labels for test data\n",
    "             self.label_df = self.df.iloc[:,1]\n",
    "        self.data_len = len(self.df.index)\n",
    "\n",
    "    def __len__(self):\n",
    "        return self.data_len\n",
    "    \n",
    "    def __getitem__(self, idx):\n",
    "        image_name = self.image_arr[idx]\n",
    "        img_tensor = self.conv_to_tensor(Image.fromarray(image_dict[image_name])) \n",
    "        if not self.test: #Return labels for non test data\n",
    "            image_labels = self.label_df[idx]\n",
    "            label_tensor = torch.zeros((1, output_dim))\n",
    "            for label in image_labels.split():\n",
    "                label_tensor[0, label_to_index[int(label)]] = 1  #converting lavel to index of label\n",
    "            image_label = torch.tensor(label_tensor,dtype= torch.float32)\n",
    "            return (img_tensor,image_label.squeeze())\n",
    "        return (img_tensor)\n",
    "\n"
   ]
  },
  {
   "cell_type": "markdown",
   "metadata": {
    "colab_type": "text",
    "id": "_6mYTYcI3iXE"
   },
   "source": [
    "## Dataloaders"
   ]
  },
  {
   "cell_type": "code",
   "execution_count": 0,
   "metadata": {
    "colab": {},
    "colab_type": "code",
    "id": "AfMLaoAHXNfi"
   },
   "outputs": [],
   "source": [
    "\n",
    "\n",
    "# Train dataset\n",
    "train_dataset = ImageData(train_df,data_transforms)\n",
    "train_loader = data.DataLoader(dataset=train_dataset,batch_size=CNN_BATCH_SIZE,shuffle=True)\n",
    "\n",
    "\n",
    "# validation dataset\n",
    "val_dataset = ImageData(val_df,data_test_transforms)\n",
    "val_loader = data.DataLoader(dataset=val_dataset,batch_size=CNN_BATCH_SIZE,shuffle=True)\n",
    "\n",
    "#full dataset - to be used during feature extractions\n",
    "full_dataset = ImageData(train,data_test_transforms)\n",
    "full_loader = data.DataLoader(dataset=full_dataset,batch_size=250,shuffle=False)\n",
    "\n",
    "# test dataset\n",
    "test_dataset = ImageData(test,data_test_transforms,test = True)\n",
    "test_loader = data.DataLoader(dataset=test_dataset,batch_size=CNN_BATCH_SIZE,shuffle=False)"
   ]
  },
  {
   "cell_type": "markdown",
   "metadata": {
    "colab_type": "text",
    "id": "A8yZtmA30DzJ"
   },
   "source": [
    "## Model Build"
   ]
  },
  {
   "cell_type": "code",
   "execution_count": 15,
   "metadata": {
    "colab": {
     "base_uri": "https://localhost:8080/",
     "height": 106,
     "referenced_widgets": [
      "2add4b59a1d0482384a0aa3523893245",
      "6622b1a47dbd4fe6ac5ec86757dead68",
      "d4a60d8cde744384b0f18c1da3a5a205",
      "69272223b58b48e7b5e49deecf7a4eea",
      "24f1909a4b4f4c81b9e9ba0ac1595c28",
      "38522944ec504cd484f3acc993dab88d",
      "62f1c50198984d0cacd1a878b702e452",
      "15d61dce625747149bb388900bbc777e"
     ]
    },
    "colab_type": "code",
    "id": "6slwO7fwXNf2",
    "outputId": "aaf36aa6-b3c9-428b-a1f3-9f07e36b95cd"
   },
   "outputs": [
    {
     "name": "stderr",
     "output_type": "stream",
     "text": [
      "Downloading: \"https://download.pytorch.org/models/resnet50-19c8e357.pth\" to /root/.cache/torch/checkpoints/resnet50-19c8e357.pth\n"
     ]
    },
    {
     "data": {
      "application/vnd.jupyter.widget-view+json": {
       "model_id": "2add4b59a1d0482384a0aa3523893245",
       "version_major": 2,
       "version_minor": 0
      },
      "text/plain": [
       "HBox(children=(FloatProgress(value=0.0, max=102502400.0), HTML(value='')))"
      ]
     },
     "metadata": {
      "tags": []
     },
     "output_type": "display_data"
    },
    {
     "name": "stdout",
     "output_type": "stream",
     "text": [
      "\n"
     ]
    }
   ],
   "source": [
    "\n",
    "\n",
    "resnet_cls = models.resnet50(pretrained=True, progress=True) #Load Pretrained ResNet50\n",
    "\n",
    "#Convert activations of ResNet50 to LeakyReLU\n",
    "resnet_cls.relu = nn.LeakyReLU(inplace=True)\n",
    "resnet_cls.layer1[0].relu = nn.LeakyReLU(inplace=True)\n",
    "resnet_cls.layer1[1].relu = nn.LeakyReLU(inplace=True)\n",
    "resnet_cls.layer1[2].relu = nn.LeakyReLU(inplace=True)\n",
    "\n",
    "resnet_cls.layer2[0].relu = nn.LeakyReLU(inplace=True)\n",
    "resnet_cls.layer2[1].relu = nn.LeakyReLU(inplace=True)\n",
    "resnet_cls.layer2[2].relu = nn.LeakyReLU(inplace=True)\n",
    "resnet_cls.layer2[3].relu = nn.LeakyReLU(inplace=True)\n",
    "\n",
    "resnet_cls.layer3[0].relu = nn.LeakyReLU(inplace=True)\n",
    "resnet_cls.layer3[1].relu = nn.LeakyReLU(inplace=True)\n",
    "resnet_cls.layer3[2].relu = nn.LeakyReLU(inplace=True)\n",
    "resnet_cls.layer3[3].relu = nn.LeakyReLU(inplace=True)\n",
    "resnet_cls.layer3[4].relu = nn.LeakyReLU(inplace=True)\n",
    "resnet_cls.layer3[5].relu = nn.LeakyReLU(inplace=True)\n",
    "\n",
    "\n",
    "resnet_cls.layer4[0].relu = nn.LeakyReLU(inplace=True)\n",
    "resnet_cls.layer4[1].relu = nn.LeakyReLU(inplace=True)\n",
    "resnet_cls.layer4[2].relu = nn.LeakyReLU(inplace=True)\n",
    "\n",
    "    \n",
    "class ResNet50(nn.Module):\n",
    "    def __init__(self,num_outputs):\n",
    "        super(ResNet50,self).__init__()\n",
    "        self.resnet = resnet_cls\n",
    "         #Remove and manually add FC layers so that image features can be extracted after training\n",
    "        self.resnet.fc = nn.Sequential() \n",
    "        self.linear = nn.Linear(2048, num_outputs,bias=True)\n",
    "        \n",
    "        for param in self.resnet.parameters():\n",
    "            param.requires_grad = False\n",
    "\n",
    "        for param in self.resnet.layer4.parameters():\n",
    "            param.requires_grad = True\n",
    "\n",
    "        for param in self.resnet.fc.parameters():\n",
    "            param.requires_grad = True\n",
    "            \n",
    "    def forward(self,x):\n",
    "        resout = self.resnet(x)\n",
    "        x = self.linear(resout)\n",
    "        return F.sigmoid(x),resout\n",
    "    \n",
    "NeuralNet = ResNet50(num_outputs = output_dim) #Initialise model\n",
    "device = torch.device(\"cuda:0\" if torch.cuda.is_available() else \"cpu\")"
   ]
  },
  {
   "cell_type": "markdown",
   "metadata": {
    "colab_type": "text",
    "id": "hdgi0-yAzfaO"
   },
   "source": [
    "## Functions for Save and load check points"
   ]
  },
  {
   "cell_type": "markdown",
   "metadata": {
    "colab_type": "text",
    "id": "DkwSg3eM4OcR"
   },
   "source": [
    "In case we want to train the model for future"
   ]
  },
  {
   "cell_type": "code",
   "execution_count": 0,
   "metadata": {
    "colab": {},
    "colab_type": "code",
    "id": "K9iG41M1zeNv"
   },
   "outputs": [],
   "source": [
    "#Code to save and load checkpoints to resume training the model in the future\n",
    "\n",
    "import torch\n",
    "import shutil\n",
    "def save_ckp(state, is_best, checkpoint_name, best_model_name):\n",
    "    f_path = checkpoint_name\n",
    "    torch.save(state, f_path)\n",
    "    if is_best:\n",
    "        best_fpath = best_model_name\n",
    "        shutil.copyfile(f_path, best_fpath)\n",
    "\n",
    "def load_ckp(checkpoint_fpath, model, optimizer):\n",
    "    checkpoint = torch.load(checkpoint_fpath)\n",
    "    model.load_state_dict(checkpoint['state_dict'])\n",
    "    optimizer.load_state_dict(checkpoint['optimizer'])\n",
    "    return model, optimizer, checkpoint['epoch']\n",
    "\n",
    "#Sample code for calling loading and save check point functions.\n",
    "\n",
    "#ckp_path = \"/content/SeqCheckPoint_59.pt\"  #Uncomment to load a check point \n",
    "#net, optimizer, start_epoch = load_ckp(ckp_path, net, optimizer) #Uncomment to load a check point\n",
    "\n",
    "\n",
    "#Uncomment to save a check point\n",
    "    #if epoch % 60 == 59:\n",
    "    #  print(\"saving model check point\")\n",
    "    #  checkpoint = {\n",
    "    #      'epoch': epoch + 1,\n",
    "    #      'state_dict': net.state_dict(),\n",
    "    #      'optimizer': optimizer.state_dict()\n",
    "    #  }\n",
    "    #  save_ckp(checkpoint, False, \"/content/SeqCheckPoint_\"+str(epoch)+\".pt\",\"/content/SeqCheckPoint_\"+str(epoch)+\".pt\")  "
   ]
  },
  {
   "cell_type": "code",
   "execution_count": 0,
   "metadata": {
    "colab": {},
    "colab_type": "code",
    "id": "Ji-nHsRJg4vR"
   },
   "outputs": [],
   "source": [
    "import warnings\n",
    "warnings.filterwarnings(\"ignore\")\n",
    "\n",
    "\n",
    "NeuralNet = NeuralNet.to(device)\n",
    "optimizer = optim.Adam(NeuralNet.parameters(),lr = CNN_LEARNING_RATE, weight_decay=1e-5)\n",
    "loss_func = torch.nn.BCELoss()\n",
    "best_f1 = np.NINF\n",
    "start_epoch = 0\n",
    "train_loss = []\n",
    "val_loss = []\n",
    "val_fone=[]"
   ]
  },
  {
   "cell_type": "markdown",
   "metadata": {
    "colab_type": "text",
    "id": "vlqnAutFyVbF"
   },
   "source": [
    "## Load Pretrained Model (Optional)"
   ]
  },
  {
   "cell_type": "code",
   "execution_count": 0,
   "metadata": {
    "colab": {},
    "colab_type": "code",
    "id": "zmOCeV7Lyr1T"
   },
   "outputs": [],
   "source": [
    "path = PATH_TO_CODE_FOLDER+\"algorithm/ImageClassification.pt\"   #Load above saved model\n",
    "try:\n",
    "  NeuralNet = torch.load(path)\n",
    "except:\n",
    "  NeuralNet = torch.load(path, map_location=torch.device('cpu')) #Load into CPU if GPU is not available"
   ]
  },
  {
   "cell_type": "markdown",
   "metadata": {
    "colab_type": "text",
    "id": "ApNAfWqlzFPH"
   },
   "source": [
    "## Training Model (Only for retraining)"
   ]
  },
  {
   "cell_type": "markdown",
   "metadata": {
    "colab_type": "text",
    "id": "sPG9PVN8zbJ8"
   },
   "source": [
    "Please only execute this section if you want to test with different hyperparameters, else the previously loaded model would suffice."
   ]
  },
  {
   "cell_type": "code",
   "execution_count": 0,
   "metadata": {
    "colab": {
     "base_uri": "https://localhost:8080/",
     "height": 1000
    },
    "colab_type": "code",
    "id": "WhhfsFhs0Dzc",
    "outputId": "dcfd763f-4836-46cd-a3f1-9b566ad7a49f"
   },
   "outputs": [
    {
     "name": "stdout",
     "output_type": "stream",
     "text": [
      "Training started @ 27-05-2020 07:56:11\n",
      "Info : model f1-score Improved from -inf to 0.78072116\n",
      "Epoch: 1/15 | Training loss:0.15939493 | Validation loss:0.10050909 | Validation f1:0.78072116 | Time: 411.4026s\n",
      "Info : model f1-score Improved from 0.78072116 to 0.79981402\n",
      "Epoch: 2/15 | Training loss:0.10944449 | Validation loss:0.09509540 | Validation f1:0.79981402 | Time: 410.4798s\n",
      "Info : model f1-score Improved from 0.79981402 to 0.80709348\n",
      "Epoch: 3/15 | Training loss:0.10291981 | Validation loss:0.09399580 | Validation f1:0.80709348 | Time: 409.9461s\n",
      "Info : model f1-score Improved from 0.80709348 to 0.81867593\n",
      "Epoch: 4/15 | Training loss:0.09971166 | Validation loss:0.09203316 | Validation f1:0.81867593 | Time: 409.7251s\n",
      "Epoch: 5/15 | Training loss:0.09589934 | Validation loss:0.09383705 | Validation f1:0.81773783 | Time: 412.1034s\n",
      "Epoch: 6/15 | Training loss:0.09316953 | Validation loss:0.09228894 | Validation f1:0.81562090 | Time: 410.8657s\n",
      "Epoch: 7/15 | Training loss:0.09111124 | Validation loss:0.09330565 | Validation f1:0.81481508 | Time: 410.2002s\n",
      "Info : model f1-score Improved from 0.81867593 to 0.82435909\n",
      "Epoch: 8/15 | Training loss:0.08867533 | Validation loss:0.09391167 | Validation f1:0.82435909 | Time: 408.8980s\n",
      "Info : model f1-score Improved from 0.82435909 to 0.82444550\n",
      "Epoch: 9/15 | Training loss:0.08606740 | Validation loss:0.09323925 | Validation f1:0.82444550 | Time: 411.0576s\n",
      "Epoch: 10/15 | Training loss:0.08477839 | Validation loss:0.09539942 | Validation f1:0.82404444 | Time: 410.9955s\n",
      "Epoch: 11/15 | Training loss:0.08289720 | Validation loss:0.09285208 | Validation f1:0.82100661 | Time: 409.8878s\n",
      "Info : model f1-score Improved from 0.82444550 to 0.82594418\n",
      "Epoch: 12/15 | Training loss:0.08020019 | Validation loss:0.09581773 | Validation f1:0.82594418 | Time: 411.5072s\n",
      "Info : model f1-score Improved from 0.82594418 to 0.82612540\n",
      "Epoch: 13/15 | Training loss:0.07853455 | Validation loss:0.09545036 | Validation f1:0.82612540 | Time: 410.9177s\n",
      "Epoch: 14/15 | Training loss:0.07705445 | Validation loss:0.09961629 | Validation f1:0.82195370 | Time: 410.1900s\n",
      "Epoch: 15/15 | Training loss:0.07520450 | Validation loss:0.10112773 | Validation f1:0.82167126 | Time: 410.9938s\n",
      "Training ended @ 27-05-2020 09:38:51\n",
      "Time taken for training : 1:42:39.174560\n"
     ]
    },
    {
     "data": {
      "image/png": "[encoded data removed]",
      "text/plain": [
       "<Figure size 1080x288 with 1 Axes>"
      ]
     },
     "metadata": {
      "tags": []
     },
     "output_type": "display_data"
    },
    {
     "data": {
      "image/png": "[encoded data removed]",
      "text/plain": [
       "<Figure size 1080x288 with 1 Axes>"
      ]
     },
     "metadata": {
      "tags": []
     },
     "output_type": "display_data"
    }
   ],
   "source": [
    "\n",
    "\n",
    "starttime = datetime.datetime.now()\n",
    "print(\"Training started @ \"+starttime.strftime(\"%d-%m-%Y %H:%M:%S\"))\n",
    "\n",
    "#Uncomment to load a check point\n",
    "#NeuralNet, optimizer_tmp, start_epoch = load_ckp(\"/content/drive/My Drive/Code/algorithm/Checkpoint-16-05-2020-16-55.pt\", NeuralNet, optimizer)\n",
    "\n",
    "\n",
    "for epoch in range(start_epoch,CNN_EPOCHS):\n",
    "        start_time = time.time()\n",
    "        NeuralNet.train()\n",
    "        running_loss = 0.0\n",
    "        counter = 0\n",
    "        prev_lr=0\n",
    "        prev_loss = 0\n",
    "        for idx1,(images_batch, labels_batch) in enumerate(train_loader):\n",
    "            images_batch = images_batch.to(device)\n",
    "            labels_batch = labels_batch.to(device)            \n",
    "            optimizer.zero_grad()            \n",
    "            with torch.set_grad_enabled(True):\n",
    "                pred_batch,_ = NeuralNet(images_batch)\n",
    "                loss = loss_func(pred_batch,labels_batch)\n",
    "            current_lr = optimizer.param_groups[0]['lr']\n",
    "            loss.backward()\n",
    "            optimizer.step()\n",
    "            prev_lr = current_lr\n",
    "            prev_loss = loss\n",
    "            running_loss += loss.item() * images_batch.size(0)\n",
    "            counter+=1\n",
    "        trian_epoch_loss = running_loss / len(train_loader.dataset)\n",
    "              \n",
    "        NeuralNet.eval()\n",
    "        running_loss = 0.0\n",
    "        counter = 0\n",
    "        all_output_labels = []\n",
    "        all_preds = []\n",
    "        for images_batch, labels_batch in val_loader:\n",
    "            all_output_labels.extend(labels_batch.numpy().tolist())\n",
    "            images_batch = images_batch.to(device)\n",
    "            labels_batch = labels_batch.to(device)\n",
    "            optimizer.zero_grad()            \n",
    "            with torch.set_grad_enabled(False):\n",
    "                pred_batch,_ = NeuralNet(images_batch)\n",
    "                all_preds.extend(torch.round(pred_batch).detach().cpu().numpy().tolist())\n",
    "                loss = loss_func(pred_batch,labels_batch)    \n",
    "            running_loss += loss.item() * images_batch.size(0)\n",
    "            counter+=1\n",
    "        val_epoch_loss = running_loss / len(val_loader.dataset)\n",
    "        val_f1_score = f1_score(y_true=all_output_labels, y_pred=all_preds, average='samples')#cal_f1score(all_preds, all_output_labels)\n",
    "        if val_f1_score > best_f1:            \n",
    "            print(\"Info : model f1-score Improved from {:.8f} to {:.8f}\".format(best_f1,val_f1_score))\n",
    "            best_f1 = val_f1_score\n",
    "            best_model_wts = copy.deepcopy(NeuralNet.state_dict())       \n",
    "        elapsed_time = time.time()-start_time\n",
    "        train_loss.append(trian_epoch_loss)\n",
    "        val_loss.append(val_epoch_loss)\n",
    "        val_fone.append(val_f1_score)\n",
    "        print(\"Epoch: {}/{} | Training loss:{:.8f} | Validation loss:{:.8f} | Validation f1:{:.8f} | Time: {:.4f}s\".format(epoch+1,\n",
    "                                                                              CNN_EPOCHS,trian_epoch_loss,val_epoch_loss,val_f1_score,elapsed_time))\n",
    "endtime = datetime.datetime.now()\n",
    "print(\"Training ended @ \"+endtime.strftime(\"%d-%m-%Y %H:%M:%S\"))\n",
    "print(\"Time taken for training :\",endtime-starttime)\n",
    "\n",
    "plt.figure(figsize=(15,4))\n",
    "plt.plot(train_loss,label=\"Training loss\",color=\"green\")\n",
    "plt.plot(val_loss,label=\"Validation loss\",color=\"blue\")\n",
    "plt.xlabel(\"Epoch\")\n",
    "plt.ylabel(\"Loss\")\n",
    "plt.title(\"Epoch vs Loss\")\n",
    "plt.legend()\n",
    "plt.grid()\n",
    "plt.show()\n",
    "\n",
    "\n",
    "plt.figure(figsize=(15,4))\n",
    "plt.plot(val_fone,label=\"Validation f1-score\",color=\"green\")\n",
    "plt.xlabel(\"Epoch\")\n",
    "plt.ylabel(\"f1-score\")\n",
    "plt.title(\"Epoch vs f1-score\")\n",
    "plt.legend()\n",
    "plt.grid()\n",
    "plt.show()\n",
    "\n",
    "NeuralNet.load_state_dict(best_model_wts)"
   ]
  },
  {
   "cell_type": "markdown",
   "metadata": {
    "colab_type": "text",
    "id": "9d096yY2dPUP"
   },
   "source": [
    "## Extract Image Features"
   ]
  },
  {
   "cell_type": "code",
   "execution_count": 0,
   "metadata": {
    "colab": {},
    "colab_type": "code",
    "id": "r1xCLHv6dofN"
   },
   "outputs": [],
   "source": [
    "\n",
    "image_features = []\n",
    "NeuralNet.eval()\n",
    "\n",
    "for images_batch, labels_batch in full_loader:\n",
    "  images_batch = images_batch.to(device)\n",
    "  optimizer.zero_grad()\n",
    "  with torch.set_grad_enabled(False):\n",
    "    _,hstates = NeuralNet(images_batch)   #hstates contain features returned by CNN\n",
    "  image_features.extend(hstates.detach().cpu().numpy())\n",
    "\n",
    "image_features = np.array(image_features)\n",
    "\n",
    "test_image_features = []\n",
    "#NeuralNet.eval()\n",
    "\n",
    "for images_batch in test_loader:\n",
    "  images_batch = images_batch.to(device)\n",
    "  optimizer.zero_grad()\n",
    "  with torch.set_grad_enabled(False):\n",
    "    _,hstates = NeuralNet(images_batch)\n",
    "  test_image_features.extend(hstates.detach().cpu().numpy())\n",
    "test_image_features = np.array(test_image_features)"
   ]
  },
  {
   "cell_type": "markdown",
   "metadata": {
    "colab_type": "text",
    "id": "Ys3vqcvYsvTN"
   },
   "source": [
    "# BiLSTM - Caption Preprocessing and Training"
   ]
  },
  {
   "cell_type": "markdown",
   "metadata": {
    "colab_type": "text",
    "id": "qVX0UFa9BXWe"
   },
   "source": [
    "## Case Folding"
   ]
  },
  {
   "cell_type": "code",
   "execution_count": 0,
   "metadata": {
    "colab": {},
    "colab_type": "code",
    "id": "5O4QS0EssUaB"
   },
   "outputs": [],
   "source": [
    "caption_train = [s.lower() for s in train.Caption]\n",
    "caption_test = [s.lower() for s in test.Caption]"
   ]
  },
  {
   "cell_type": "markdown",
   "metadata": {
    "colab_type": "text",
    "id": "meDk5k1xBany"
   },
   "source": [
    "## Handle Punctuation Marks"
   ]
  },
  {
   "cell_type": "code",
   "execution_count": 0,
   "metadata": {
    "colab": {},
    "colab_type": "code",
    "id": "lcitgyW9s_sU"
   },
   "outputs": [],
   "source": [
    "import re\n",
    "\n",
    "def remove_punctuation_re(x):\n",
    "\n",
    "    tempwords = x.split()\n",
    "    bool_longword = False \n",
    "    for i in range(len(tempwords)):\n",
    "      if len(tempwords[i]) > 20:      \n",
    "        tempwords[i] = re.sub(r'[^\\w\\s]',' ',tempwords[i])\n",
    "        if tempwords[i].count(\"_\") > 1:  #Identifying multiple words which are seperated by _ and not by space. Example: - elizabeth_perkins_in_miracle_on\n",
    "          tempwords[i] = tempwords[i].replace(\"_\",\" \")  \n",
    "        bool_longword = True # Updating flag to join the modified words \n",
    "    if bool_longword == True:\n",
    "      x = \" \".join(tempwords)\n",
    "\n",
    "\n",
    "    x = re.sub(r'[^\\w\\s]','',x)\n",
    "    x = x.replace(\"½\",\"\")\n",
    "    x = x.replace(\"¾\",\"\")\n",
    "    x = x.replace(\"º\",\"\") \n",
    "    x = x.replace(\"ª\",\"\")\n",
    "    x = x.replace(\"\",\" \")\n",
    "    x = x.replace(\"³\",\" 3\") \n",
    "    x = x.replace(\"1ç\",\"1\")\n",
    "    x=x.replace(\"יגאל\",\"\")   \n",
    "    return x\n",
    "\n",
    "caption_train = [remove_punctuation_re(s) for s in caption_train]\n",
    "caption_test = [remove_punctuation_re(s) for s in caption_test]"
   ]
  },
  {
   "cell_type": "markdown",
   "metadata": {
    "colab_type": "text",
    "id": "G5PA_aq3Be3y"
   },
   "source": [
    "## Remove Digits"
   ]
  },
  {
   "cell_type": "code",
   "execution_count": 0,
   "metadata": {
    "colab": {},
    "colab_type": "code",
    "id": "iXzauZ-FtOk0"
   },
   "outputs": [],
   "source": [
    "caption_train = [re.sub('\\d+','', s) for s in caption_train]\n",
    "caption_test = [re.sub('\\d+','', s) for s in caption_test]"
   ]
  },
  {
   "cell_type": "markdown",
   "metadata": {
    "colab_type": "text",
    "id": "ZBjD2rFIBj3h"
   },
   "source": [
    "## Tokenize"
   ]
  },
  {
   "cell_type": "code",
   "execution_count": 23,
   "metadata": {
    "colab": {
     "base_uri": "https://localhost:8080/",
     "height": 54
    },
    "colab_type": "code",
    "id": "gFYLXCLStVaj",
    "outputId": "ceaa2f13-2cce-4067-8a0f-5b8dcf1904f4"
   },
   "outputs": [
    {
     "name": "stdout",
     "output_type": "stream",
     "text": [
      "[nltk_data] Downloading package punkt to /root/nltk_data...\n",
      "[nltk_data]   Unzipping tokenizers/punkt.zip.\n"
     ]
    }
   ],
   "source": [
    "import nltk\n",
    "nltk.download('punkt')\n",
    "\n",
    "from nltk.tokenize import TweetTokenizer\n",
    "tknzr = TweetTokenizer()\n",
    "\n",
    "caption_train = [tknzr.tokenize(s) for s in caption_train]\n",
    "caption_test  = [tknzr.tokenize(s) for s in caption_test]"
   ]
  },
  {
   "cell_type": "markdown",
   "metadata": {
    "colab_type": "text",
    "id": "jyqPZ_pWBrGN"
   },
   "source": [
    "## Remove Stopwords"
   ]
  },
  {
   "cell_type": "code",
   "execution_count": 24,
   "metadata": {
    "colab": {
     "base_uri": "https://localhost:8080/",
     "height": 54
    },
    "colab_type": "code",
    "id": "ZVi3HnCVtjNd",
    "outputId": "6f27909b-35e3-4871-f660-d8bbb8cfd031"
   },
   "outputs": [
    {
     "name": "stdout",
     "output_type": "stream",
     "text": [
      "[nltk_data] Downloading package stopwords to /root/nltk_data...\n",
      "[nltk_data]   Unzipping corpora/stopwords.zip.\n"
     ]
    }
   ],
   "source": [
    "nltk.download('stopwords')\n",
    "from nltk.corpus import stopwords as sw\n",
    "stop_words = sw.words('english')  #Only English Stopwords\n",
    "\n",
    "\n",
    "text_train_ns=[]\n",
    "for tokens in caption_train:\n",
    "  filtered_sentence = [w for w in tokens if not w in stop_words]\n",
    "  text_train_ns.append(filtered_sentence)\n",
    "\n",
    "text_test_ns=[]\n",
    "for tokens in caption_test:\n",
    "    filtered_sentence =  [w for w in tokens if not w in stop_words] \n",
    "    text_test_ns.append(filtered_sentence)\n"
   ]
  },
  {
   "cell_type": "markdown",
   "metadata": {
    "colab_type": "text",
    "id": "C0LVYYCJBu1X"
   },
   "source": [
    "## Lemmatization"
   ]
  },
  {
   "cell_type": "code",
   "execution_count": 25,
   "metadata": {
    "colab": {
     "base_uri": "https://localhost:8080/",
     "height": 54
    },
    "colab_type": "code",
    "id": "f_699o_1ujo5",
    "outputId": "803114c8-c3b4-4db9-c337-77694414f76a"
   },
   "outputs": [
    {
     "name": "stdout",
     "output_type": "stream",
     "text": [
      "[nltk_data] Downloading package wordnet to /root/nltk_data...\n",
      "[nltk_data]   Unzipping corpora/wordnet.zip.\n"
     ]
    }
   ],
   "source": [
    "nltk.download('wordnet')\n",
    "\n",
    "from nltk.stem import WordNetLemmatizer\n",
    "\n",
    "lemmatizer = WordNetLemmatizer()\n",
    "\n",
    "text_train_le1 = []\n",
    "for tokens in text_train_ns:\n",
    "    lemma_sentence = [lemmatizer.lemmatize(w) for w in tokens ]\n",
    "    text_train_le1.append(lemma_sentence)\n",
    "\n",
    "text_test_le1 = []\n",
    "for tokens in text_test_ns:\n",
    "    lemma_sentence = [lemmatizer.lemmatize(w) for w in tokens ]\n",
    "    text_test_le1.append(lemma_sentence)"
   ]
  },
  {
   "cell_type": "code",
   "execution_count": 0,
   "metadata": {
    "colab": {},
    "colab_type": "code",
    "id": "4Ms52HHqusAx"
   },
   "outputs": [],
   "source": [
    "text_train_le=[]\n",
    "for tokens in text_train_le1:\n",
    "  filtered_sentence = [w for w in tokens if (not w.replace(\" \",\"\").isdecimal()) and ( w.count(\"_\") != len(w))]  #We are removing tokens with only numbers and _\n",
    "  text_train_le.append(filtered_sentence)\n",
    "\n",
    "text_test_le=[]\n",
    "for tokens in text_test_le1:\n",
    "    filtered_sentence = [w for w in tokens if (not w.replace(\" \",\"\").isdecimal()) and ( w.count(\"_\") != len(w))]\n",
    "    text_test_le.append(filtered_sentence)"
   ]
  },
  {
   "cell_type": "code",
   "execution_count": 27,
   "metadata": {
    "colab": {
     "base_uri": "https://localhost:8080/",
     "height": 36
    },
    "colab_type": "code",
    "id": "g0zhg_IfuxRI",
    "outputId": "772d5726-ad86-4862-b61f-76d50acde05a"
   },
   "outputs": [
    {
     "name": "stdout",
     "output_type": "stream",
     "text": [
      "Total unique words: 6856\n"
     ]
    }
   ],
   "source": [
    "import copy\n",
    "import datetime\n",
    "\n",
    "#Adding all words into a list called word_sequence\n",
    "word_sequence = []\n",
    "for corpus_temp in [text_train_le,text_test_le]:\n",
    "  for sentence in corpus_temp:\n",
    "    word_sequence.extend(sentence)\n",
    "\n",
    "\n",
    "print(\"Total unique words:\",len(set(word_sequence)))"
   ]
  },
  {
   "cell_type": "code",
   "execution_count": 0,
   "metadata": {
    "colab": {},
    "colab_type": "code",
    "id": "sAryHeWd2MAh"
   },
   "outputs": [],
   "source": [
    "word_list = list(set(word_sequence))\n",
    "#print(len(word_list))\n",
    "word_list.sort()\n",
    "\n",
    "# make dictionary so that we can reference each index of unique word during training\n",
    "word_dict = {w: i for i, w in enumerate(word_list)}\n"
   ]
  },
  {
   "cell_type": "markdown",
   "metadata": {
    "colab_type": "text",
    "id": "LTNZ3Bp1Gc1p"
   },
   "source": [
    "## Word Embedding"
   ]
  },
  {
   "cell_type": "code",
   "execution_count": 29,
   "metadata": {
    "colab": {
     "base_uri": "https://localhost:8080/",
     "height": 54
    },
    "colab_type": "code",
    "id": "bcJQdu7Tv1XK",
    "outputId": "e73f4eaa-637b-45bd-df70-21f007825321"
   },
   "outputs": [
    {
     "name": "stdout",
     "output_type": "stream",
     "text": [
      "[==================================================] 100.0% 387.1/387.1MB downloaded\n",
      "Number of unknown words: 459\n"
     ]
    }
   ],
   "source": [
    "import gensim.downloader as api\n",
    "word_emb_model = api.load(\"glove-twitter-100\")\n",
    "\n",
    "EMBEDDING_DIM = 100\n",
    "unknown_words = 0\n",
    "embedding_matrix = []\n",
    "notknownword = []\n",
    "for word in word_list:\n",
    "    try:\n",
    "        embedding_matrix.append(word_emb_model.wv[word])\n",
    "    except:\n",
    "        embedding_matrix.append([0]*EMBEDDING_DIM)\n",
    "        unknown_words=unknown_words+1\n",
    "        notknownword.append(word)\n",
    "embedding_matrix = np.array(embedding_matrix) #Save Embedding for each unique word\n",
    "#embedding_matrix.shape\n",
    "\n",
    "print(\"Number of unknown words:\",unknown_words)"
   ]
  },
  {
   "cell_type": "markdown",
   "metadata": {
    "colab_type": "text",
    "id": "2ADpPS5kCR4M"
   },
   "source": [
    "## Caption Length Analysis"
   ]
  },
  {
   "cell_type": "code",
   "execution_count": 30,
   "metadata": {
    "colab": {
     "base_uri": "https://localhost:8080/",
     "height": 642
    },
    "colab_type": "code",
    "id": "HSi9Vr-Q0rGe",
    "outputId": "7776de44-8f37-4fa8-d8e7-51eff6fcb5ff"
   },
   "outputs": [
    {
     "data": {
      "image/png": "[encoded data removed]",
      "text/plain": [
       "<Figure size 432x288 with 1 Axes>"
      ]
     },
     "metadata": {
      "tags": []
     },
     "output_type": "display_data"
    },
    {
     "data": {
      "image/png": "[encoded data removed]",
      "text/plain": [
       "<Figure size 432x288 with 1 Axes>"
      ]
     },
     "metadata": {
      "tags": []
     },
     "output_type": "display_data"
    },
    {
     "name": "stdout",
     "output_type": "stream",
     "text": [
      "\n",
      "Maximum no. of words in captions : 28\n"
     ]
    }
   ],
   "source": [
    "import matplotlib.pyplot as plt\n",
    "len_list = [len(s) for s in text_train_le]  #Storing length of reviews in training set.\n",
    "\n",
    "#Creating a box plot for length of reviews\n",
    "fig = plt.figure(1)\n",
    "fig.suptitle('Box Plot for length of captions', fontsize=14, fontweight='bold')\n",
    "ax = fig.add_subplot(111)\n",
    "ax.boxplot(len_list,vert=False,meanline=True,showmeans=True)\n",
    "ax.set_xlabel('Number of words')\n",
    "\n",
    "#Creating a histogram for length of reviews\n",
    "fig = plt.figure(2)\n",
    "fig.suptitle('Histogram for length of captions', fontsize=14, fontweight='bold')\n",
    "bx = fig.add_subplot(111)\n",
    "bx.hist(len_list)\n",
    "bx.set_xlabel('Number of words')\n",
    "bx.set_ylabel('Number of captions')\n",
    "\n",
    "\n",
    "plt.show()\n",
    "print(\"\\nMaximum no. of words in captions :\",max(len_list))\n",
    "\n",
    "#plt.hist(len_list)\n"
   ]
  },
  {
   "cell_type": "code",
   "execution_count": 31,
   "metadata": {
    "colab": {
     "base_uri": "https://localhost:8080/",
     "height": 566
    },
    "colab_type": "code",
    "id": "v2bt1A9O05XT",
    "outputId": "cf394474-f4c6-4e6c-9d06-63689eec8f4b"
   },
   "outputs": [
    {
     "name": "stdout",
     "output_type": "stream",
     "text": [
      "Number of captions less than 4 words : 671\n",
      "Number of captions less than 6 words : 13275\n",
      "Number of captions less than 8 words : 26880\n",
      "Number of captions less than 10 words : 29530\n"
     ]
    },
    {
     "data": {
      "image/png": "[encoded data removed]",
      "text/plain": [
       "<Figure size 1152x720 with 1 Axes>"
      ]
     },
     "metadata": {
      "tags": []
     },
     "output_type": "display_data"
    }
   ],
   "source": [
    "# Below list are to plot histogram\n",
    "xval=[]\n",
    "yval=[]\n",
    "\n",
    "for review_len in range(4,12,2):  \n",
    "  counter_r = 0\n",
    "  for s in text_train_le:\n",
    "    if len(s) < review_len:\n",
    "      counter_r+=1  \n",
    "  xval.append(review_len)\n",
    "  yval.append(counter_r)\n",
    "  print(\"Number of captions less than\",review_len,\"words :\",counter_r)\n",
    "\n",
    "#Plotting a histogram for visualization\n",
    "plt.figure(figsize=(16,10))  #Increasing the figure size for easy visualization\n",
    "plt.bar(xval,yval,align='center') #Histogram\n",
    "plt.ylim(0,30000)  #Limiting y axis so that we can only focus on number of reviews more than 21000\n",
    "plt.xlabel('No. of words')\n",
    "plt.ylabel('No. of reviews less than those words')\n",
    "for i in range(len(yval)):\n",
    "    plt.hlines(yval[i],0,xval[i]) # Drawing the horizontal lines\n",
    "plt.show()\n"
   ]
  },
  {
   "cell_type": "markdown",
   "metadata": {
    "colab_type": "text",
    "id": "Of1ZOeFjCm32"
   },
   "source": [
    "## Pad Captions"
   ]
  },
  {
   "cell_type": "code",
   "execution_count": 0,
   "metadata": {
    "colab": {},
    "colab_type": "code",
    "id": "v6TkaGP11Wbg"
   },
   "outputs": [],
   "source": [
    "\n",
    "seq_length = 8 #Derived from above analysis\n",
    "\n",
    "def add_padding(oldcorpus, seq_length):\n",
    "    corpus = copy.deepcopy(oldcorpus) #Performing a  deepcopy so that text_train_le, text_test_le does not get effected\n",
    "    output = []\n",
    "    for sentence in corpus:\n",
    "      if len(sentence)>seq_length:\n",
    "        output.append(sentence[:seq_length])  #Truncating the sentence if it is longer than seq_length\n",
    "      else:\n",
    "        for j in range(seq_length-len(sentence)): #Padding the sentence if it is smaller than seq_length\n",
    "          sentence.append(\"<PAD>\")\n",
    "        output.append(sentence)\n",
    "    return output\n",
    "\n",
    "text_train_pad = add_padding(text_train_le,seq_length )\n",
    "text_test_pad = add_padding(text_test_le,seq_length )\n",
    "\n"
   ]
  },
  {
   "cell_type": "markdown",
   "metadata": {
    "colab_type": "text",
    "id": "jGJPFgfDCsBP"
   },
   "source": [
    "## Label Preprocessing"
   ]
  },
  {
   "cell_type": "code",
   "execution_count": 0,
   "metadata": {
    "colab": {},
    "colab_type": "code",
    "id": "7Q3Q8uw5fZiL"
   },
   "outputs": [],
   "source": [
    "train_tags = []\n",
    "\n",
    "for eachlab in train.Labels:\n",
    "  label_tensor = [0]*output_dim\n",
    "  for label in eachlab.split():\n",
    "    label_tensor[label_to_index[int(label)]] = 1  #converting lavel to index of label\n",
    "  train_tags.append(label_tensor)\n",
    "\n",
    "train_tags = np.array(train_tags)"
   ]
  },
  {
   "cell_type": "markdown",
   "metadata": {
    "colab_type": "text",
    "id": "YVZ7wc3bC1m8"
   },
   "source": [
    "## Input for Bi-LSTM"
   ]
  },
  {
   "cell_type": "code",
   "execution_count": 0,
   "metadata": {
    "colab": {},
    "colab_type": "code",
    "id": "eokHIr1LiKoO"
   },
   "outputs": [],
   "source": [
    "train_caption_inputs = []\n",
    "for ind in range(len(text_train_pad)):\n",
    "  sentence = text_train_pad[ind]\n",
    "  out_temp = []\n",
    "  for word in sentence:\n",
    "    bool_Wordfound = False\n",
    "    wordindex = 0\n",
    "    try:\n",
    "      wordindex = word_dict[word]\n",
    "      bool_Wordfound = True\n",
    "    except:  #To handle scenarios where the word is not present in the dictionary\n",
    "      bool_Wordfound = False\n",
    "    if bool_Wordfound == True:\n",
    "      out_temp.append(embedding_matrix[wordindex])\n",
    "    else:\n",
    "      out_temp.append([0]*EMBEDDING_DIM) #If the word is not found in word_dict then create a matrix with all zeros\n",
    "  train_caption_inputs.append(out_temp)\n",
    "\n",
    "\n",
    "test_caption_inputs = []\n",
    "for ind in range(len(text_test_pad)):\n",
    "  sentence = text_test_pad[ind]\n",
    "  out_temp = []\n",
    "  for word in sentence:\n",
    "    bool_Wordfound = False\n",
    "    wordindex = 0\n",
    "    try:\n",
    "      wordindex = word_dict[word]\n",
    "      bool_Wordfound = True\n",
    "    except:  #To handle scenarios where the word is not present in the dictionary\n",
    "      bool_Wordfound = False\n",
    "    if bool_Wordfound == True:\n",
    "      out_temp.append(embedding_matrix[wordindex])\n",
    "    else:\n",
    "      out_temp.append([0]*EMBEDDING_DIM) #If the word is not found in word_dict then create a matrix with all zeros\n",
    "  test_caption_inputs.append(out_temp)\n",
    "\n"
   ]
  },
  {
   "cell_type": "markdown",
   "metadata": {
    "colab_type": "text",
    "id": "wNu8T6KQC54E"
   },
   "source": [
    "## Training and Validation Split"
   ]
  },
  {
   "cell_type": "code",
   "execution_count": 35,
   "metadata": {
    "colab": {
     "base_uri": "https://localhost:8080/",
     "height": 54
    },
    "colab_type": "code",
    "id": "ihqJ0d6xj9yN",
    "outputId": "a1f82637-e19c-4a6a-b629-7c3c94d92d60"
   },
   "outputs": [
    {
     "name": "stdout",
     "output_type": "stream",
     "text": [
      "Validation_Data Length: 27000\n",
      "Train_Data Length: 3000\n"
     ]
    }
   ],
   "source": [
    "\n",
    "from sklearn.model_selection import train_test_split\n",
    "X_train, X_val, y_train, y_val = train_test_split(train_caption_inputs,train_tags, test_size=VALIDATION_SET_SIZE)\n",
    "\n",
    "print(f\"Validation_Data Length: {len(X_train)}\\nTrain_Data Length: {len(X_val)}\")"
   ]
  },
  {
   "cell_type": "code",
   "execution_count": 0,
   "metadata": {
    "colab": {},
    "colab_type": "code",
    "id": "fAHRVtrSk7D9"
   },
   "outputs": [],
   "source": [
    "\n",
    "n_input = EMBEDDING_DIM\n",
    "n_hidden = BILSTM_HIDDEN_DIM \n",
    "n_class = output_dim #number of unique labels\n",
    "total_epoch = BILSTM_EPOCHS\n",
    "learning_rate = BILSTM_LEARNINGRATE\n",
    "seq_batch_size = BITSTM_BATCHSIZE "
   ]
  },
  {
   "cell_type": "markdown",
   "metadata": {
    "colab_type": "text",
    "id": "3848-bMru-xb"
   },
   "source": [
    "## Data Loaders for BILSTM Model"
   ]
  },
  {
   "cell_type": "code",
   "execution_count": 0,
   "metadata": {
    "colab": {},
    "colab_type": "code",
    "id": "Ryx2TVqEfFsN"
   },
   "outputs": [],
   "source": [
    "from torch.utils.data import TensorDataset\n",
    "train_caption_data = TensorDataset(torch.tensor(X_train,dtype= torch.float32), torch.tensor(y_train,dtype= torch.float32))\n",
    "\n",
    "from torch.utils.data import DataLoader\n",
    "train_caption_loader = DataLoader(dataset=train_caption_data, batch_size=seq_batch_size, shuffle=True)\n",
    "\n",
    "from torch.utils.data import TensorDataset\n",
    "val_caption_data = TensorDataset(torch.tensor(X_val,dtype= torch.float32), torch.tensor(y_val,dtype= torch.float32))\n",
    "\n",
    "from torch.utils.data import DataLoader\n",
    "val_caption_loader = DataLoader(dataset=val_caption_data, batch_size=seq_batch_size, shuffle=False)"
   ]
  },
  {
   "cell_type": "markdown",
   "metadata": {
    "colab_type": "text",
    "id": "F_iOfxYp8pf0"
   },
   "source": [
    "## Build Model"
   ]
  },
  {
   "cell_type": "code",
   "execution_count": 0,
   "metadata": {
    "colab": {},
    "colab_type": "code",
    "id": "j8S5RV6s8c2K"
   },
   "outputs": [],
   "source": [
    "\n",
    "import torch.nn as nn\n",
    "import torch.nn.functional as F\n",
    "import torch.optim as optim\n",
    "from sklearn.metrics import accuracy_score\n",
    "\n",
    "class Net(nn.Module):\n",
    "    def __init__(self):\n",
    "        super(Net, self).__init__()\n",
    "        self.lstm = nn.LSTM(n_input, n_hidden, batch_first =True,bidirectional=True, dropout=0.1)\n",
    "        self.linear = nn.Linear(n_hidden*2,n_class)\n",
    "\n",
    "    def forward(self, x):\n",
    "        lstm_out, (h_n,c_n) = self.lstm(x)\n",
    "        #concat the last hidden state from two direction\n",
    "        hidden_out =torch.cat((h_n[0,:,:],h_n[1,:,:]),1)\n",
    "        z = self.linear(hidden_out)\n",
    "        log_output = z\n",
    "        return log_output,hidden_out"
   ]
  },
  {
   "cell_type": "code",
   "execution_count": 0,
   "metadata": {
    "colab": {},
    "colab_type": "code",
    "id": "71oWS_oa1dFc"
   },
   "outputs": [],
   "source": [
    "device = torch.device(\"cuda\" if torch.cuda.is_available() else \"cpu\")\n",
    "weights = [0.4,1,1,1,1,1,1,1,1,1,1,1,1,1,1,1,1,1]\n",
    "class_weights = torch.FloatTensor(weights).to(device)\n",
    "epoch_values = [] #Lists to store epoch values for later plotting\n",
    "f1_scores = []  #Lists to store f1-values for later plotting\n",
    "\n",
    "net = Net().to(device)\n",
    "criterion = torch.nn.BCEWithLogitsLoss(pos_weight=class_weights)#torch.nn.BCELoss()#nn.NLLLoss()\n",
    "optimizer = optim.Adam(net.parameters(), lr=learning_rate, weight_decay=1e-5)\n",
    "scheduler = torch.optim.lr_scheduler.StepLR(optimizer, 1.0, gamma=0.95)\n",
    "start_epoch = 0\n",
    "best_f1 = np.NINF"
   ]
  },
  {
   "cell_type": "markdown",
   "metadata": {
    "colab_type": "text",
    "id": "I2Sl-2dSzs6J"
   },
   "source": [
    "## Load Pretrained Model (Optional)"
   ]
  },
  {
   "cell_type": "code",
   "execution_count": 0,
   "metadata": {
    "colab": {},
    "colab_type": "code",
    "id": "TPuKMrMvzxwl"
   },
   "outputs": [],
   "source": [
    "path = PATH_TO_CODE_FOLDER+\"algorithm/CaptionModel.pt\"   #Load above saved model\n",
    "try:\n",
    "  net = torch.load(path)\n",
    "except:\n",
    "  net = torch.load(path, map_location=torch.device('cpu')) #Load into CPU if GPU is not available"
   ]
  },
  {
   "cell_type": "markdown",
   "metadata": {
    "colab_type": "text",
    "id": "9sSamRJ70bMd"
   },
   "source": [
    "## Training Model (Only for retraining)"
   ]
  },
  {
   "cell_type": "markdown",
   "metadata": {
    "colab_type": "text",
    "id": "jC0hbAuk0aMZ"
   },
   "source": [
    "Please only execute this section if you want to test with different hyperparameters, else the previously loaded model would suffice."
   ]
  },
  {
   "cell_type": "code",
   "execution_count": 0,
   "metadata": {
    "colab": {
     "base_uri": "https://localhost:8080/",
     "height": 1000
    },
    "colab_type": "code",
    "id": "6rGQAgO4nBwy",
    "outputId": "eda46547-4c19-4439-9c3e-48748fcbf2c8"
   },
   "outputs": [
    {
     "name": "stdout",
     "output_type": "stream",
     "text": [
      "Info : model f1-score Improved from -inf to 0.78355529\n",
      "Epoch: 1, Training loss: 0.15945, Validation loss: 0.10165, Validation f1-score: 0.784\n",
      "Info : model f1-score Improved from 0.78355529 to 0.83502778\n",
      "Epoch: 2, Training loss: 0.09433, Validation loss: 0.08926, Validation f1-score: 0.835\n",
      "Info : model f1-score Improved from 0.83502778 to 0.84222249\n",
      "Epoch: 3, Training loss: 0.08701, Validation loss: 0.08525, Validation f1-score: 0.842\n",
      "Epoch: 4, Training loss: 0.08456, Validation loss: 0.08375, Validation f1-score: 0.835\n",
      "Epoch: 5, Training loss: 0.08303, Validation loss: 0.08402, Validation f1-score: 0.842\n",
      "Epoch: 6, Training loss: 0.08166, Validation loss: 0.08342, Validation f1-score: 0.841\n",
      "Epoch: 7, Training loss: 0.08070, Validation loss: 0.08366, Validation f1-score: 0.828\n",
      "Info : model f1-score Improved from 0.84222249 to 0.84326481\n",
      "Epoch: 8, Training loss: 0.08011, Validation loss: 0.08358, Validation f1-score: 0.843\n",
      "Info : model f1-score Improved from 0.84326481 to 0.84893466\n",
      "Epoch: 9, Training loss: 0.07904, Validation loss: 0.08311, Validation f1-score: 0.849\n",
      "Epoch: 10, Training loss: 0.07846, Validation loss: 0.08392, Validation f1-score: 0.846\n",
      "Epoch: 11, Training loss: 0.07793, Validation loss: 0.08288, Validation f1-score: 0.848\n",
      "Epoch: 12, Training loss: 0.07707, Validation loss: 0.08354, Validation f1-score: 0.847\n",
      "Info : model f1-score Improved from 0.84893466 to 0.85178571\n",
      "Epoch: 13, Training loss: 0.07655, Validation loss: 0.08322, Validation f1-score: 0.852\n",
      "Epoch: 14, Training loss: 0.07582, Validation loss: 0.08300, Validation f1-score: 0.844\n",
      "Epoch: 15, Training loss: 0.07516, Validation loss: 0.08394, Validation f1-score: 0.844\n",
      "Epoch: 16, Training loss: 0.07501, Validation loss: 0.08363, Validation f1-score: 0.846\n",
      "Epoch: 17, Training loss: 0.07405, Validation loss: 0.08344, Validation f1-score: 0.845\n",
      "Epoch: 18, Training loss: 0.07326, Validation loss: 0.08291, Validation f1-score: 0.846\n",
      "Epoch: 19, Training loss: 0.07273, Validation loss: 0.08350, Validation f1-score: 0.850\n",
      "Epoch: 20, Training loss: 0.07193, Validation loss: 0.08412, Validation f1-score: 0.849\n",
      "Epoch: 21, Training loss: 0.07154, Validation loss: 0.08421, Validation f1-score: 0.850\n",
      "Epoch: 22, Training loss: 0.07090, Validation loss: 0.08408, Validation f1-score: 0.849\n",
      "Epoch: 23, Training loss: 0.07016, Validation loss: 0.08528, Validation f1-score: 0.847\n",
      "Info : model f1-score Improved from 0.85178571 to 0.85242434\n",
      "Epoch: 24, Training loss: 0.06957, Validation loss: 0.08538, Validation f1-score: 0.852\n",
      "Info : model f1-score Improved from 0.85242434 to 0.85303598\n",
      "Epoch: 25, Training loss: 0.06891, Validation loss: 0.08512, Validation f1-score: 0.853\n",
      "Info : model f1-score Improved from 0.85303598 to 0.85471085\n",
      "Epoch: 26, Training loss: 0.06820, Validation loss: 0.08581, Validation f1-score: 0.855\n",
      "Epoch: 27, Training loss: 0.06769, Validation loss: 0.08605, Validation f1-score: 0.853\n",
      "Epoch: 28, Training loss: 0.06668, Validation loss: 0.08593, Validation f1-score: 0.849\n",
      "Epoch: 29, Training loss: 0.06617, Validation loss: 0.08708, Validation f1-score: 0.848\n",
      "Epoch: 30, Training loss: 0.06527, Validation loss: 0.08707, Validation f1-score: 0.849\n",
      "Epoch: 31, Training loss: 0.06483, Validation loss: 0.08830, Validation f1-score: 0.852\n",
      "Epoch: 32, Training loss: 0.06397, Validation loss: 0.08890, Validation f1-score: 0.845\n",
      "Epoch: 33, Training loss: 0.06361, Validation loss: 0.08861, Validation f1-score: 0.849\n",
      "Epoch: 34, Training loss: 0.06262, Validation loss: 0.09040, Validation f1-score: 0.848\n",
      "Epoch: 35, Training loss: 0.06199, Validation loss: 0.08964, Validation f1-score: 0.849\n",
      "Epoch: 36, Training loss: 0.06129, Validation loss: 0.09036, Validation f1-score: 0.845\n",
      "Epoch: 37, Training loss: 0.06056, Validation loss: 0.09088, Validation f1-score: 0.844\n",
      "Epoch: 38, Training loss: 0.05992, Validation loss: 0.09080, Validation f1-score: 0.849\n",
      "Epoch: 39, Training loss: 0.05914, Validation loss: 0.09116, Validation f1-score: 0.844\n",
      "Epoch: 40, Training loss: 0.05826, Validation loss: 0.09226, Validation f1-score: 0.850\n",
      "Epoch: 41, Training loss: 0.05772, Validation loss: 0.09232, Validation f1-score: 0.848\n",
      "Epoch: 42, Training loss: 0.05695, Validation loss: 0.09351, Validation f1-score: 0.849\n",
      "Epoch: 43, Training loss: 0.05618, Validation loss: 0.09435, Validation f1-score: 0.849\n",
      "Epoch: 44, Training loss: 0.05557, Validation loss: 0.09446, Validation f1-score: 0.850\n",
      "Epoch: 45, Training loss: 0.05499, Validation loss: 0.09538, Validation f1-score: 0.845\n",
      "Epoch: 46, Training loss: 0.05413, Validation loss: 0.09585, Validation f1-score: 0.846\n",
      "Epoch: 47, Training loss: 0.05375, Validation loss: 0.09628, Validation f1-score: 0.845\n",
      "Epoch: 48, Training loss: 0.05298, Validation loss: 0.09759, Validation f1-score: 0.847\n",
      "Epoch: 49, Training loss: 0.05240, Validation loss: 0.09770, Validation f1-score: 0.848\n",
      "Epoch: 50, Training loss: 0.05194, Validation loss: 0.09834, Validation f1-score: 0.847\n",
      "Epoch: 51, Training loss: 0.05135, Validation loss: 0.09877, Validation f1-score: 0.848\n",
      "Epoch: 52, Training loss: 0.05061, Validation loss: 0.09970, Validation f1-score: 0.846\n",
      "Epoch: 53, Training loss: 0.05018, Validation loss: 0.10017, Validation f1-score: 0.842\n",
      "Epoch: 54, Training loss: 0.04951, Validation loss: 0.10038, Validation f1-score: 0.839\n",
      "Epoch: 55, Training loss: 0.04902, Validation loss: 0.10129, Validation f1-score: 0.842\n",
      "Epoch: 56, Training loss: 0.04836, Validation loss: 0.10257, Validation f1-score: 0.842\n",
      "Epoch: 57, Training loss: 0.04792, Validation loss: 0.10213, Validation f1-score: 0.842\n",
      "Epoch: 58, Training loss: 0.04734, Validation loss: 0.10321, Validation f1-score: 0.839\n",
      "Epoch: 59, Training loss: 0.04664, Validation loss: 0.10366, Validation f1-score: 0.841\n",
      "Epoch: 60, Training loss: 0.04606, Validation loss: 0.10397, Validation f1-score: 0.838\n",
      "Epoch: 61, Training loss: 0.04557, Validation loss: 0.10489, Validation f1-score: 0.838\n",
      "Epoch: 62, Training loss: 0.04499, Validation loss: 0.10535, Validation f1-score: 0.839\n",
      "Epoch: 63, Training loss: 0.04445, Validation loss: 0.10624, Validation f1-score: 0.838\n",
      "Epoch: 64, Training loss: 0.04400, Validation loss: 0.10632, Validation f1-score: 0.837\n",
      "Epoch: 65, Training loss: 0.04353, Validation loss: 0.10679, Validation f1-score: 0.838\n",
      "Epoch: 66, Training loss: 0.04305, Validation loss: 0.10787, Validation f1-score: 0.836\n",
      "Epoch: 67, Training loss: 0.04262, Validation loss: 0.10850, Validation f1-score: 0.836\n",
      "Epoch: 68, Training loss: 0.04220, Validation loss: 0.10903, Validation f1-score: 0.836\n",
      "Epoch: 69, Training loss: 0.04189, Validation loss: 0.10910, Validation f1-score: 0.836\n",
      "Epoch: 70, Training loss: 0.04147, Validation loss: 0.10973, Validation f1-score: 0.834\n",
      "Epoch: 71, Training loss: 0.04112, Validation loss: 0.10973, Validation f1-score: 0.836\n",
      "Epoch: 72, Training loss: 0.04082, Validation loss: 0.11058, Validation f1-score: 0.835\n",
      "Epoch: 73, Training loss: 0.04057, Validation loss: 0.11071, Validation f1-score: 0.835\n",
      "Epoch: 74, Training loss: 0.04024, Validation loss: 0.11114, Validation f1-score: 0.834\n",
      "Epoch: 75, Training loss: 0.03995, Validation loss: 0.11141, Validation f1-score: 0.833\n",
      "Epoch: 76, Training loss: 0.03967, Validation loss: 0.11181, Validation f1-score: 0.834\n",
      "Epoch: 77, Training loss: 0.03947, Validation loss: 0.11230, Validation f1-score: 0.834\n",
      "Epoch: 78, Training loss: 0.03920, Validation loss: 0.11234, Validation f1-score: 0.833\n",
      "Epoch: 79, Training loss: 0.03901, Validation loss: 0.11280, Validation f1-score: 0.833\n",
      "Epoch: 80, Training loss: 0.03877, Validation loss: 0.11288, Validation f1-score: 0.833\n",
      "Epoch: 81, Training loss: 0.03860, Validation loss: 0.11343, Validation f1-score: 0.834\n",
      "Epoch: 82, Training loss: 0.03840, Validation loss: 0.11364, Validation f1-score: 0.833\n",
      "Epoch: 83, Training loss: 0.03823, Validation loss: 0.11374, Validation f1-score: 0.831\n",
      "Epoch: 84, Training loss: 0.03803, Validation loss: 0.11434, Validation f1-score: 0.832\n",
      "Epoch: 85, Training loss: 0.03790, Validation loss: 0.11451, Validation f1-score: 0.833\n",
      "Epoch: 86, Training loss: 0.03774, Validation loss: 0.11480, Validation f1-score: 0.834\n",
      "Epoch: 87, Training loss: 0.03756, Validation loss: 0.11497, Validation f1-score: 0.832\n",
      "Epoch: 88, Training loss: 0.03742, Validation loss: 0.11512, Validation f1-score: 0.831\n",
      "Epoch: 89, Training loss: 0.03731, Validation loss: 0.11515, Validation f1-score: 0.831\n",
      "Epoch: 90, Training loss: 0.03718, Validation loss: 0.11562, Validation f1-score: 0.833\n",
      "Epoch: 91, Training loss: 0.03709, Validation loss: 0.11579, Validation f1-score: 0.832\n",
      "Epoch: 92, Training loss: 0.03695, Validation loss: 0.11570, Validation f1-score: 0.832\n",
      "Epoch: 93, Training loss: 0.03685, Validation loss: 0.11614, Validation f1-score: 0.832\n",
      "Epoch: 94, Training loss: 0.03675, Validation loss: 0.11639, Validation f1-score: 0.831\n",
      "Epoch: 95, Training loss: 0.03667, Validation loss: 0.11664, Validation f1-score: 0.832\n",
      "Epoch: 96, Training loss: 0.03656, Validation loss: 0.11641, Validation f1-score: 0.831\n",
      "Epoch: 97, Training loss: 0.03649, Validation loss: 0.11669, Validation f1-score: 0.832\n",
      "Epoch: 98, Training loss: 0.03640, Validation loss: 0.11679, Validation f1-score: 0.831\n",
      "Epoch: 99, Training loss: 0.03631, Validation loss: 0.11682, Validation f1-score: 0.831\n",
      "Epoch: 100, Training loss: 0.03624, Validation loss: 0.11700, Validation f1-score: 0.831\n",
      "Epoch: 101, Training loss: 0.03618, Validation loss: 0.11741, Validation f1-score: 0.830\n",
      "Epoch: 102, Training loss: 0.03611, Validation loss: 0.11733, Validation f1-score: 0.831\n",
      "Epoch: 103, Training loss: 0.03605, Validation loss: 0.11749, Validation f1-score: 0.830\n",
      "Epoch: 104, Training loss: 0.03598, Validation loss: 0.11749, Validation f1-score: 0.831\n",
      "Epoch: 105, Training loss: 0.03592, Validation loss: 0.11773, Validation f1-score: 0.831\n",
      "Epoch: 106, Training loss: 0.03587, Validation loss: 0.11767, Validation f1-score: 0.831\n",
      "Epoch: 107, Training loss: 0.03581, Validation loss: 0.11785, Validation f1-score: 0.831\n",
      "Epoch: 108, Training loss: 0.03576, Validation loss: 0.11794, Validation f1-score: 0.832\n",
      "Epoch: 109, Training loss: 0.03572, Validation loss: 0.11800, Validation f1-score: 0.831\n",
      "Epoch: 110, Training loss: 0.03567, Validation loss: 0.11816, Validation f1-score: 0.830\n",
      "Epoch: 111, Training loss: 0.03563, Validation loss: 0.11808, Validation f1-score: 0.831\n",
      "Epoch: 112, Training loss: 0.03560, Validation loss: 0.11823, Validation f1-score: 0.830\n",
      "Epoch: 113, Training loss: 0.03556, Validation loss: 0.11824, Validation f1-score: 0.831\n",
      "Epoch: 114, Training loss: 0.03551, Validation loss: 0.11826, Validation f1-score: 0.831\n",
      "Epoch: 115, Training loss: 0.03548, Validation loss: 0.11836, Validation f1-score: 0.830\n",
      "Epoch: 116, Training loss: 0.03545, Validation loss: 0.11840, Validation f1-score: 0.830\n",
      "Epoch: 117, Training loss: 0.03542, Validation loss: 0.11852, Validation f1-score: 0.830\n",
      "Epoch: 118, Training loss: 0.03539, Validation loss: 0.11854, Validation f1-score: 0.831\n",
      "Epoch: 119, Training loss: 0.03536, Validation loss: 0.11855, Validation f1-score: 0.831\n",
      "Epoch: 120, Training loss: 0.03533, Validation loss: 0.11865, Validation f1-score: 0.831\n",
      "Epoch: 121, Training loss: 0.03531, Validation loss: 0.11872, Validation f1-score: 0.830\n",
      "Epoch: 122, Training loss: 0.03528, Validation loss: 0.11863, Validation f1-score: 0.830\n",
      "Epoch: 123, Training loss: 0.03526, Validation loss: 0.11879, Validation f1-score: 0.830\n",
      "Epoch: 124, Training loss: 0.03524, Validation loss: 0.11877, Validation f1-score: 0.831\n",
      "Epoch: 125, Training loss: 0.03522, Validation loss: 0.11881, Validation f1-score: 0.831\n",
      "Epoch: 126, Training loss: 0.03520, Validation loss: 0.11883, Validation f1-score: 0.830\n",
      "Epoch: 127, Training loss: 0.03518, Validation loss: 0.11883, Validation f1-score: 0.830\n",
      "Epoch: 128, Training loss: 0.03517, Validation loss: 0.11889, Validation f1-score: 0.830\n",
      "Epoch: 129, Training loss: 0.03514, Validation loss: 0.11894, Validation f1-score: 0.830\n",
      "Epoch: 130, Training loss: 0.03513, Validation loss: 0.11895, Validation f1-score: 0.831\n",
      "Epoch: 131, Training loss: 0.03511, Validation loss: 0.11900, Validation f1-score: 0.830\n",
      "Epoch: 132, Training loss: 0.03510, Validation loss: 0.11900, Validation f1-score: 0.831\n",
      "Epoch: 133, Training loss: 0.03508, Validation loss: 0.11906, Validation f1-score: 0.830\n",
      "Epoch: 134, Training loss: 0.03507, Validation loss: 0.11906, Validation f1-score: 0.830\n",
      "Epoch: 135, Training loss: 0.03506, Validation loss: 0.11909, Validation f1-score: 0.830\n",
      "Epoch: 136, Training loss: 0.03505, Validation loss: 0.11911, Validation f1-score: 0.830\n",
      "Epoch: 137, Training loss: 0.03504, Validation loss: 0.11909, Validation f1-score: 0.830\n",
      "Epoch: 138, Training loss: 0.03503, Validation loss: 0.11915, Validation f1-score: 0.830\n",
      "Epoch: 139, Training loss: 0.03502, Validation loss: 0.11916, Validation f1-score: 0.830\n",
      "Epoch: 140, Training loss: 0.03501, Validation loss: 0.11917, Validation f1-score: 0.830\n",
      "Epoch: 141, Training loss: 0.03500, Validation loss: 0.11921, Validation f1-score: 0.831\n",
      "Epoch: 142, Training loss: 0.03499, Validation loss: 0.11920, Validation f1-score: 0.830\n",
      "Epoch: 143, Training loss: 0.03498, Validation loss: 0.11923, Validation f1-score: 0.830\n",
      "Epoch: 144, Training loss: 0.03497, Validation loss: 0.11926, Validation f1-score: 0.830\n",
      "Epoch: 145, Training loss: 0.03497, Validation loss: 0.11925, Validation f1-score: 0.830\n",
      "Epoch: 146, Training loss: 0.03496, Validation loss: 0.11925, Validation f1-score: 0.830\n",
      "Epoch: 147, Training loss: 0.03495, Validation loss: 0.11927, Validation f1-score: 0.830\n",
      "Epoch: 148, Training loss: 0.03494, Validation loss: 0.11927, Validation f1-score: 0.830\n",
      "Epoch: 149, Training loss: 0.03494, Validation loss: 0.11930, Validation f1-score: 0.830\n",
      "Epoch: 150, Training loss: 0.03493, Validation loss: 0.11930, Validation f1-score: 0.830\n",
      "Epoch: 151, Training loss: 0.03493, Validation loss: 0.11932, Validation f1-score: 0.830\n",
      "Epoch: 152, Training loss: 0.03492, Validation loss: 0.11932, Validation f1-score: 0.830\n",
      "Epoch: 153, Training loss: 0.03492, Validation loss: 0.11934, Validation f1-score: 0.830\n",
      "Epoch: 154, Training loss: 0.03491, Validation loss: 0.11935, Validation f1-score: 0.830\n",
      "Epoch: 155, Training loss: 0.03491, Validation loss: 0.11936, Validation f1-score: 0.830\n",
      "Epoch: 156, Training loss: 0.03490, Validation loss: 0.11936, Validation f1-score: 0.830\n",
      "Epoch: 157, Training loss: 0.03490, Validation loss: 0.11937, Validation f1-score: 0.830\n",
      "Epoch: 158, Training loss: 0.03489, Validation loss: 0.11937, Validation f1-score: 0.830\n",
      "Epoch: 159, Training loss: 0.03489, Validation loss: 0.11938, Validation f1-score: 0.830\n",
      "Epoch: 160, Training loss: 0.03489, Validation loss: 0.11938, Validation f1-score: 0.830\n",
      "Epoch: 161, Training loss: 0.03488, Validation loss: 0.11939, Validation f1-score: 0.830\n",
      "Epoch: 162, Training loss: 0.03488, Validation loss: 0.11940, Validation f1-score: 0.830\n",
      "Epoch: 163, Training loss: 0.03488, Validation loss: 0.11941, Validation f1-score: 0.830\n",
      "Epoch: 164, Training loss: 0.03487, Validation loss: 0.11941, Validation f1-score: 0.830\n",
      "Epoch: 165, Training loss: 0.03487, Validation loss: 0.11942, Validation f1-score: 0.830\n",
      "Epoch: 166, Training loss: 0.03487, Validation loss: 0.11942, Validation f1-score: 0.830\n",
      "Epoch: 167, Training loss: 0.03487, Validation loss: 0.11942, Validation f1-score: 0.830\n",
      "Epoch: 168, Training loss: 0.03486, Validation loss: 0.11943, Validation f1-score: 0.830\n",
      "Epoch: 169, Training loss: 0.03486, Validation loss: 0.11943, Validation f1-score: 0.830\n",
      "Epoch: 170, Training loss: 0.03486, Validation loss: 0.11943, Validation f1-score: 0.830\n",
      "Epoch: 171, Training loss: 0.03486, Validation loss: 0.11944, Validation f1-score: 0.830\n",
      "Epoch: 172, Training loss: 0.03486, Validation loss: 0.11944, Validation f1-score: 0.830\n",
      "Epoch: 173, Training loss: 0.03485, Validation loss: 0.11944, Validation f1-score: 0.830\n",
      "Epoch: 174, Training loss: 0.03485, Validation loss: 0.11945, Validation f1-score: 0.830\n",
      "Epoch: 175, Training loss: 0.03485, Validation loss: 0.11945, Validation f1-score: 0.830\n",
      "Epoch: 176, Training loss: 0.03485, Validation loss: 0.11945, Validation f1-score: 0.830\n",
      "Epoch: 177, Training loss: 0.03485, Validation loss: 0.11946, Validation f1-score: 0.830\n",
      "Epoch: 178, Training loss: 0.03485, Validation loss: 0.11946, Validation f1-score: 0.830\n",
      "Epoch: 179, Training loss: 0.03485, Validation loss: 0.11946, Validation f1-score: 0.830\n",
      "Epoch: 180, Training loss: 0.03484, Validation loss: 0.11946, Validation f1-score: 0.830\n",
      "Epoch: 181, Training loss: 0.03484, Validation loss: 0.11947, Validation f1-score: 0.830\n",
      "Epoch: 182, Training loss: 0.03484, Validation loss: 0.11947, Validation f1-score: 0.830\n",
      "Epoch: 183, Training loss: 0.03484, Validation loss: 0.11947, Validation f1-score: 0.830\n",
      "Epoch: 184, Training loss: 0.03484, Validation loss: 0.11947, Validation f1-score: 0.830\n",
      "Epoch: 185, Training loss: 0.03484, Validation loss: 0.11947, Validation f1-score: 0.830\n",
      "Epoch: 186, Training loss: 0.03484, Validation loss: 0.11947, Validation f1-score: 0.830\n",
      "Epoch: 187, Training loss: 0.03484, Validation loss: 0.11948, Validation f1-score: 0.830\n",
      "Epoch: 188, Training loss: 0.03484, Validation loss: 0.11948, Validation f1-score: 0.830\n",
      "Epoch: 189, Training loss: 0.03484, Validation loss: 0.11948, Validation f1-score: 0.830\n",
      "Epoch: 190, Training loss: 0.03483, Validation loss: 0.11948, Validation f1-score: 0.830\n",
      "Epoch: 191, Training loss: 0.03483, Validation loss: 0.11948, Validation f1-score: 0.830\n",
      "Epoch: 192, Training loss: 0.03483, Validation loss: 0.11948, Validation f1-score: 0.830\n",
      "Epoch: 193, Training loss: 0.03483, Validation loss: 0.11948, Validation f1-score: 0.830\n",
      "Epoch: 194, Training loss: 0.03483, Validation loss: 0.11948, Validation f1-score: 0.830\n",
      "Epoch: 195, Training loss: 0.03483, Validation loss: 0.11949, Validation f1-score: 0.830\n",
      "Epoch: 196, Training loss: 0.03483, Validation loss: 0.11949, Validation f1-score: 0.830\n",
      "Epoch: 197, Training loss: 0.03483, Validation loss: 0.11949, Validation f1-score: 0.830\n",
      "Epoch: 198, Training loss: 0.03483, Validation loss: 0.11949, Validation f1-score: 0.830\n",
      "Epoch: 199, Training loss: 0.03483, Validation loss: 0.11949, Validation f1-score: 0.830\n",
      "Epoch: 200, Training loss: 0.03483, Validation loss: 0.11949, Validation f1-score: 0.830\n",
      "Finished Training of BiLSTM Model\n"
     ]
    },
    {
     "data": {
      "image/png": "[encoded data removed]",
      "text/plain": [
       "<Figure size 1080x288 with 1 Axes>"
      ]
     },
     "metadata": {
      "tags": []
     },
     "output_type": "display_data"
    },
    {
     "data": {
      "image/png": "[encoded data removed]",
      "text/plain": [
       "<Figure size 1080x288 with 1 Axes>"
      ]
     },
     "metadata": {
      "tags": []
     },
     "output_type": "display_data"
    }
   ],
   "source": [
    "train_loss = []\n",
    "val_loss = []\n",
    "val_fone=[]\n",
    "\n",
    "\n",
    "for epoch in range(start_epoch,total_epoch):\n",
    "    start_time = time.time()\n",
    "    net.train()\n",
    "    running_loss = 0.0\n",
    "    for idx1,(input_batch_torch, target_batch_torch) in enumerate(train_caption_loader):#tqdm(dataloaders_dict[phase],disable = True):\n",
    "      input_batch_torch = input_batch_torch.to(device)\n",
    "      target_batch_torch = target_batch_torch.to(device)\n",
    "      optimizer.zero_grad()\n",
    "      outputs,_ = net(input_batch_torch)\n",
    "      loss = criterion(outputs, target_batch_torch)\n",
    "      loss.backward()\n",
    "      torch.nn.utils.clip_grad_norm_(net.parameters(), 0.5)\n",
    "      optimizer.step()\n",
    "      running_loss += loss.item() * input_batch_torch.size(0)\n",
    "    trian_epoch_loss = running_loss / len(train_caption_loader.dataset)\n",
    "\n",
    "\n",
    "    net.eval()\n",
    "    running_loss = 0.0\n",
    "    all_output_labels = []\n",
    "    all_preds = []\n",
    "    for idx1,(input_batch_torch, target_batch_torch) in enumerate(val_caption_loader):\n",
    "      all_output_labels.extend(target_batch_torch.numpy().tolist())\n",
    "      input_batch_torch = input_batch_torch.to(device)\n",
    "      target_batch_torch = target_batch_torch.to(device)\n",
    "      outputs,_ = net(input_batch_torch)\n",
    "      all_preds.extend(torch.round(torch.sigmoid(outputs)).detach().cpu().numpy().tolist())\n",
    "      loss = criterion(outputs, target_batch_torch)\n",
    "      running_loss += loss.item() * input_batch_torch.size(0)\n",
    "\n",
    "    val_epoch_loss = running_loss / len(val_caption_loader.dataset)\n",
    "    val_f1_score = f1_score(y_true=all_output_labels, y_pred=all_preds, average='samples')#cal_f1score(all_preds, all_output_labels)\n",
    "    \n",
    "    if val_f1_score > best_f1:\n",
    "      print(\"Info : model f1-score Improved from {:.8f} to {:.8f}\".format(best_f1,val_f1_score))\n",
    "      best_f1 = val_f1_score\n",
    "      best_model_wts2 = copy.deepcopy(net.state_dict())\n",
    "\n",
    "    epoch_values.append(epoch+1) #Store epoch value for plotting\n",
    "    print('Epoch: %d, Training loss: %.5f, Validation loss: %.5f, Validation f1-score: %.3f' %(epoch + 1, trian_epoch_loss,val_epoch_loss, val_f1_score))\n",
    "    train_loss.append(trian_epoch_loss)\n",
    "    val_loss.append(val_epoch_loss)\n",
    "    val_fone.append(val_f1_score)\n",
    "    scheduler.step()\n",
    "\n",
    "print('Finished Training of BiLSTM Model')\n",
    "\n",
    "plt.figure(figsize=(15,4))\n",
    "plt.plot(train_loss,label=\"Training loss\",color=\"green\")\n",
    "plt.plot(val_loss,label=\"Validation loss\",color=\"blue\")\n",
    "plt.xlabel(\"Epoch\")\n",
    "plt.ylabel(\"Loss\")\n",
    "plt.title(\"Epoch vs Loss\")\n",
    "plt.legend()\n",
    "plt.grid()\n",
    "plt.show()\n",
    "\n",
    "\n",
    "plt.figure(figsize=(15,4))\n",
    "plt.plot(val_fone,label=\"Validation f1-score\",color=\"green\")\n",
    "plt.xlabel(\"Epoch\")\n",
    "plt.ylabel(\"f1-score\")\n",
    "plt.title(\"Epoch vs f1-score\")\n",
    "plt.legend()\n",
    "plt.grid()\n",
    "plt.show()\n",
    "\n",
    "net.load_state_dict(best_model_wts2)"
   ]
  },
  {
   "cell_type": "markdown",
   "metadata": {
    "colab_type": "text",
    "id": "j1aNQp7Qse1V"
   },
   "source": [
    "## Extract Caption Features"
   ]
  },
  {
   "cell_type": "code",
   "execution_count": 0,
   "metadata": {
    "colab": {},
    "colab_type": "code",
    "id": "leXNitpBqs0P"
   },
   "outputs": [],
   "source": [
    "net.eval()\n",
    "\n",
    "input_batch_torch = torch.tensor(train_caption_inputs,dtype= torch.float32).to(device)\n",
    "_,lstmhiddenstate = net(input_batch_torch) \n",
    "\n",
    "lstmhiddenstate = np.array(lstmhiddenstate.detach().cpu().numpy())\n",
    "\n",
    "net.eval()\n",
    "\n",
    "input_batch_torch = torch.tensor(test_caption_inputs,dtype= torch.float32).to(device)\n",
    "_,test_lstmhiddenstate = net(input_batch_torch) \n",
    "test_lstmhiddenstate = np.array(test_lstmhiddenstate.detach().cpu().numpy())"
   ]
  },
  {
   "cell_type": "markdown",
   "metadata": {
    "colab_type": "text",
    "id": "iIR1nZFAgD5-"
   },
   "source": [
    "# Combined Neural Network"
   ]
  },
  {
   "cell_type": "markdown",
   "metadata": {
    "colab_type": "text",
    "id": "ZwxtknRhFSZ6"
   },
   "source": [
    "## Input Creation"
   ]
  },
  {
   "cell_type": "code",
   "execution_count": 0,
   "metadata": {
    "colab": {},
    "colab_type": "code",
    "id": "bD3maBzkg7yA"
   },
   "outputs": [],
   "source": [
    "def make_inputs_for_combinedNN(imagefeatures,captionfeatures):\n",
    "  inputs_x = []\n",
    "  for i in range(len(imagefeatures)):\n",
    "    inputs_x.append([*imagefeatures[i] ,*captionfeatures[i]])\n",
    "  return np.array(inputs_x)\n",
    "\n",
    "train_inputs_combinedNN = make_inputs_for_combinedNN(image_features,lstmhiddenstate)\n",
    "test_inputs_combinedNN = make_inputs_for_combinedNN(test_image_features,test_lstmhiddenstate)"
   ]
  },
  {
   "cell_type": "markdown",
   "metadata": {
    "colab_type": "text",
    "id": "Z2w_jUmbFgC2"
   },
   "source": [
    "## Build Model"
   ]
  },
  {
   "cell_type": "code",
   "execution_count": 0,
   "metadata": {
    "colab": {},
    "colab_type": "code",
    "id": "5sYULHy7gHw2"
   },
   "outputs": [],
   "source": [
    "import torch\n",
    "import torch.nn as nn\n",
    "import torch.optim as optim\n",
    "from sklearn.metrics import accuracy_score\n",
    "\n",
    "device = torch.device(\"cuda\" if torch.cuda.is_available() else \"cpu\")  #Using GPU if available\n",
    "class CombinedNN(nn.Module):\n",
    "    def __init__(self):\n",
    "        super(CombinedNN, self).__init__()\n",
    "        self.linear1 = nn.Linear(train_inputs_combinedNN.shape[1], HIDDEN_COMBINEDNN,bias=True)\n",
    "        self.linear2 = nn.Linear(HIDDEN_COMBINEDNN, output_dim,bias=True)\n",
    "        self.lrelu = nn.ReLU(inplace=True)#nn.LeakyReLU(0.05, inplace=True)\n",
    "        self.dropout = nn.Dropout(p=0.05)\n",
    "\n",
    "    def forward(self, x):\n",
    "        out = self.linear1(x)\n",
    "        out = self.dropout(out)\n",
    "        out = self.lrelu(out)\n",
    "        out = self.linear2(out)\n",
    "        #out = self.linear2(hidden)\n",
    "        return F.sigmoid(out),out \n",
    "\n",
    "learning_rate = LEARNINGRATE_COMBINEDNN"
   ]
  },
  {
   "cell_type": "markdown",
   "metadata": {
    "colab_type": "text",
    "id": "2beQbZnQF5zi"
   },
   "source": [
    "## Traning and Validation Split"
   ]
  },
  {
   "cell_type": "code",
   "execution_count": 44,
   "metadata": {
    "colab": {
     "base_uri": "https://localhost:8080/",
     "height": 54
    },
    "colab_type": "code",
    "id": "seroMIbQuyaW",
    "outputId": "4b85106e-b55d-4616-d8df-7d96bd4a87c7"
   },
   "outputs": [
    {
     "name": "stdout",
     "output_type": "stream",
     "text": [
      "Train Data Length: 27000\n",
      "Validation Data Length: 3000\n"
     ]
    }
   ],
   "source": [
    "from sklearn.model_selection import train_test_split\n",
    "X_combinedNN_train, X_combinedNN_val, y_combinedNN_train, y_combinedNN_val = train_test_split(train_inputs_combinedNN,train_tags, test_size=VALIDATION_SET_SIZE)\n",
    "\n",
    "print(f\"Train Data Length: {len(X_combinedNN_train)}\\nValidation Data Length: {len(X_combinedNN_val)}\")\n"
   ]
  },
  {
   "cell_type": "markdown",
   "metadata": {
    "colab_type": "text",
    "id": "9zm4g2I3F_25"
   },
   "source": [
    "## Data Loaders"
   ]
  },
  {
   "cell_type": "code",
   "execution_count": 0,
   "metadata": {
    "colab": {},
    "colab_type": "code",
    "id": "r-DtRnmZvbyM"
   },
   "outputs": [],
   "source": [
    "from torch.utils.data import TensorDataset\n",
    "train_combinedNN_data = TensorDataset(torch.tensor(X_combinedNN_train,dtype= torch.float32), torch.tensor(y_combinedNN_train,dtype= torch.float32))\n",
    "\n",
    "from torch.utils.data import DataLoader\n",
    "train_combinedNN_loader = DataLoader(dataset=train_combinedNN_data, batch_size=BATCHSIZE_COMBINEDNN, shuffle=True)\n",
    "\n",
    "from torch.utils.data import TensorDataset\n",
    "val_combinedNN_data = TensorDataset(torch.tensor(X_combinedNN_val,dtype= torch.float32), torch.tensor(y_combinedNN_val,dtype= torch.float32))\n",
    "\n",
    "from torch.utils.data import DataLoader\n",
    "val_combinedNN_loader = DataLoader(dataset=val_combinedNN_data, batch_size=BATCHSIZE_COMBINEDNN, shuffle=False)"
   ]
  },
  {
   "cell_type": "code",
   "execution_count": 0,
   "metadata": {
    "colab": {},
    "colab_type": "code",
    "id": "DNue4OP50vhY"
   },
   "outputs": [],
   "source": [
    "\n",
    "weights = [0.5,1,1,1,1,1,1,1,1,1,1,1,1,1,1,1,1,1]  #Penalize classes other than 1 more as the data is skewed\n",
    "class_weights = torch.FloatTensor(weights).to(device)\n",
    "epoch_values = []\n",
    "train_loss = []\n",
    "val_loss = []\n",
    "val_fone=[]\n",
    "\n",
    "combinednet = CombinedNN().to(device)\n",
    "criterion = torch.nn.BCEWithLogitsLoss(pos_weight=class_weights)#torch.nn.BCELoss()#nn.NLLLoss()\n",
    "optimizer = optim.Adam(combinednet.parameters(), lr=learning_rate)\n",
    "scheduler = optim.lr_scheduler.ReduceLROnPlateau(optimizer,patience = PATIENCE)\n",
    "\n",
    "start_epoch = 0\n",
    "best_f1 = np.NINF"
   ]
  },
  {
   "cell_type": "markdown",
   "metadata": {
    "colab_type": "text",
    "id": "1HRWeSuZ0wXv"
   },
   "source": [
    "## Load Pretrained Model (Optional)"
   ]
  },
  {
   "cell_type": "code",
   "execution_count": 0,
   "metadata": {
    "colab": {},
    "colab_type": "code",
    "id": "PuFrhpO400x-"
   },
   "outputs": [],
   "source": [
    "path = PATH_TO_CODE_FOLDER+\"algorithm/CombinedNNModel.pt\"   #Load above saved model\n",
    "try:\n",
    "  combinednet = torch.load(path)\n",
    "except:\n",
    "  combinednet = torch.load(path, map_location=torch.device('cpu')) #Load into CPU if GPU is not available"
   ]
  },
  {
   "cell_type": "markdown",
   "metadata": {
    "colab_type": "text",
    "id": "tITq5LlF1AO3"
   },
   "source": [
    "## Training Model (Only for retraining)"
   ]
  },
  {
   "cell_type": "markdown",
   "metadata": {
    "colab_type": "text",
    "id": "i4vW7xrw1CO-"
   },
   "source": [
    "Please only execute this section if you want to test with different hyperparameters, else the previously loaded model would suffice."
   ]
  },
  {
   "cell_type": "code",
   "execution_count": 46,
   "metadata": {
    "colab": {
     "base_uri": "https://localhost:8080/",
     "height": 1000
    },
    "colab_type": "code",
    "id": "Kn61ZDajw16v",
    "outputId": "2f64bbc4-3f1d-4dad-cc8f-ecbafb7e239f"
   },
   "outputs": [
    {
     "name": "stdout",
     "output_type": "stream",
     "text": [
      "Info : model f1-score Improved from -inf to 0.62047768\n",
      "Epoch: 1, Training loss: 17.04505, Validation loss: 5.59768, Validation f1-score: 0.620\n",
      "Info : model f1-score Improved from 0.62047768 to 0.82755212\n",
      "Epoch: 2, Training loss: 3.39766, Validation loss: 0.67008, Validation f1-score: 0.828\n",
      "Info : model f1-score Improved from 0.82755212 to 0.83235777\n",
      "Epoch: 3, Training loss: 0.31317, Validation loss: 0.09289, Validation f1-score: 0.832\n",
      "Info : model f1-score Improved from 0.83235777 to 0.86501070\n",
      "Epoch: 4, Training loss: 0.08401, Validation loss: 0.07216, Validation f1-score: 0.865\n",
      "Info : model f1-score Improved from 0.86501070 to 0.88587407\n",
      "Epoch: 5, Training loss: 0.06964, Validation loss: 0.06327, Validation f1-score: 0.886\n",
      "Info : model f1-score Improved from 0.88587407 to 0.89601837\n",
      "Epoch: 6, Training loss: 0.06421, Validation loss: 0.06002, Validation f1-score: 0.896\n",
      "Epoch: 7, Training loss: 0.06141, Validation loss: 0.06336, Validation f1-score: 0.895\n",
      "Epoch: 8, Training loss: 0.06173, Validation loss: 0.06260, Validation f1-score: 0.892\n",
      "Info : model f1-score Improved from 0.89601837 to 0.90093062\n",
      "Epoch: 9, Training loss: 0.05994, Validation loss: 0.05651, Validation f1-score: 0.901\n",
      "Epoch: 10, Training loss: 0.05848, Validation loss: 0.06079, Validation f1-score: 0.893\n",
      "Epoch: 11, Training loss: 0.05782, Validation loss: 0.05958, Validation f1-score: 0.897\n",
      "Info : model f1-score Improved from 0.90093062 to 0.90512557\n",
      "Epoch: 12, Training loss: 0.05781, Validation loss: 0.05495, Validation f1-score: 0.905\n",
      "Info : model f1-score Improved from 0.90512557 to 0.90746859\n",
      "Epoch: 13, Training loss: 0.05512, Validation loss: 0.05582, Validation f1-score: 0.907\n",
      "Epoch: 14, Training loss: 0.05546, Validation loss: 0.05578, Validation f1-score: 0.903\n",
      "Epoch: 15, Training loss: 0.05554, Validation loss: 0.05661, Validation f1-score: 0.904\n",
      "Info : model f1-score Improved from 0.90746859 to 0.91108689\n",
      "Epoch: 16, Training loss: 0.05016, Validation loss: 0.05164, Validation f1-score: 0.911\n",
      "Info : model f1-score Improved from 0.91108689 to 0.91257439\n",
      "Epoch: 17, Training loss: 0.04787, Validation loss: 0.05105, Validation f1-score: 0.913\n",
      "Info : model f1-score Improved from 0.91257439 to 0.91409846\n",
      "Epoch: 18, Training loss: 0.04720, Validation loss: 0.05047, Validation f1-score: 0.914\n",
      "Info : model f1-score Improved from 0.91409846 to 0.91466063\n",
      "Epoch: 19, Training loss: 0.04667, Validation loss: 0.05081, Validation f1-score: 0.915\n",
      "Epoch: 20, Training loss: 0.04621, Validation loss: 0.05045, Validation f1-score: 0.912\n",
      "Epoch: 21, Training loss: 0.04597, Validation loss: 0.05060, Validation f1-score: 0.913\n",
      "Epoch: 22, Training loss: 0.04590, Validation loss: 0.05039, Validation f1-score: 0.914\n",
      "Epoch: 23, Training loss: 0.04559, Validation loss: 0.05035, Validation f1-score: 0.913\n",
      "Epoch: 24, Training loss: 0.04546, Validation loss: 0.05047, Validation f1-score: 0.913\n",
      "Epoch: 25, Training loss: 0.04523, Validation loss: 0.05058, Validation f1-score: 0.912\n",
      "Epoch: 26, Training loss: 0.04515, Validation loss: 0.05058, Validation f1-score: 0.913\n",
      "Epoch: 27, Training loss: 0.04436, Validation loss: 0.05015, Validation f1-score: 0.914\n",
      "Epoch: 28, Training loss: 0.04412, Validation loss: 0.05001, Validation f1-score: 0.914\n",
      "Epoch: 29, Training loss: 0.04430, Validation loss: 0.05008, Validation f1-score: 0.914\n",
      "Epoch: 30, Training loss: 0.04433, Validation loss: 0.05007, Validation f1-score: 0.913\n",
      "Epoch: 31, Training loss: 0.04392, Validation loss: 0.05010, Validation f1-score: 0.913\n",
      "Epoch: 32, Training loss: 0.04394, Validation loss: 0.05009, Validation f1-score: 0.913\n",
      "Epoch: 33, Training loss: 0.04409, Validation loss: 0.05008, Validation f1-score: 0.913\n",
      "Epoch: 34, Training loss: 0.04401, Validation loss: 0.05008, Validation f1-score: 0.913\n",
      "Epoch: 35, Training loss: 0.04404, Validation loss: 0.05008, Validation f1-score: 0.914\n",
      "Epoch: 36, Training loss: 0.04393, Validation loss: 0.05008, Validation f1-score: 0.913\n",
      "Epoch: 37, Training loss: 0.04383, Validation loss: 0.05008, Validation f1-score: 0.913\n",
      "Epoch: 38, Training loss: 0.04401, Validation loss: 0.05008, Validation f1-score: 0.913\n",
      "Epoch: 39, Training loss: 0.04385, Validation loss: 0.05008, Validation f1-score: 0.913\n",
      "Epoch: 40, Training loss: 0.04382, Validation loss: 0.05008, Validation f1-score: 0.913\n",
      "Epoch: 41, Training loss: 0.04399, Validation loss: 0.05008, Validation f1-score: 0.913\n",
      "Epoch: 42, Training loss: 0.04398, Validation loss: 0.05008, Validation f1-score: 0.913\n",
      "Epoch: 43, Training loss: 0.04401, Validation loss: 0.05008, Validation f1-score: 0.913\n",
      "Epoch: 44, Training loss: 0.04396, Validation loss: 0.05008, Validation f1-score: 0.913\n",
      "Epoch: 45, Training loss: 0.04395, Validation loss: 0.05008, Validation f1-score: 0.913\n",
      "Epoch: 46, Training loss: 0.04384, Validation loss: 0.05008, Validation f1-score: 0.913\n",
      "Epoch: 47, Training loss: 0.04382, Validation loss: 0.05008, Validation f1-score: 0.913\n",
      "Epoch: 48, Training loss: 0.04377, Validation loss: 0.05008, Validation f1-score: 0.913\n",
      "Epoch: 49, Training loss: 0.04381, Validation loss: 0.05008, Validation f1-score: 0.913\n",
      "Epoch: 50, Training loss: 0.04391, Validation loss: 0.05008, Validation f1-score: 0.913\n",
      "Epoch: 51, Training loss: 0.04368, Validation loss: 0.05008, Validation f1-score: 0.913\n",
      "Epoch: 52, Training loss: 0.04384, Validation loss: 0.05008, Validation f1-score: 0.913\n",
      "Epoch: 53, Training loss: 0.04397, Validation loss: 0.05008, Validation f1-score: 0.913\n",
      "Epoch: 54, Training loss: 0.04388, Validation loss: 0.05008, Validation f1-score: 0.913\n",
      "Epoch: 55, Training loss: 0.04403, Validation loss: 0.05008, Validation f1-score: 0.913\n",
      "Epoch: 56, Training loss: 0.04411, Validation loss: 0.05008, Validation f1-score: 0.913\n",
      "Epoch: 57, Training loss: 0.04413, Validation loss: 0.05008, Validation f1-score: 0.913\n",
      "Epoch: 58, Training loss: 0.04384, Validation loss: 0.05008, Validation f1-score: 0.913\n",
      "Epoch: 59, Training loss: 0.04405, Validation loss: 0.05008, Validation f1-score: 0.913\n",
      "Epoch: 60, Training loss: 0.04389, Validation loss: 0.05008, Validation f1-score: 0.913\n",
      "Epoch: 61, Training loss: 0.04391, Validation loss: 0.05008, Validation f1-score: 0.913\n",
      "Epoch: 62, Training loss: 0.04396, Validation loss: 0.05008, Validation f1-score: 0.913\n",
      "Epoch: 63, Training loss: 0.04414, Validation loss: 0.05008, Validation f1-score: 0.913\n",
      "Epoch: 64, Training loss: 0.04377, Validation loss: 0.05008, Validation f1-score: 0.913\n",
      "Epoch: 65, Training loss: 0.04375, Validation loss: 0.05008, Validation f1-score: 0.913\n",
      "Epoch: 66, Training loss: 0.04373, Validation loss: 0.05008, Validation f1-score: 0.913\n",
      "Epoch: 67, Training loss: 0.04403, Validation loss: 0.05008, Validation f1-score: 0.913\n",
      "Epoch: 68, Training loss: 0.04391, Validation loss: 0.05008, Validation f1-score: 0.913\n",
      "Epoch: 69, Training loss: 0.04410, Validation loss: 0.05008, Validation f1-score: 0.913\n",
      "Epoch: 70, Training loss: 0.04380, Validation loss: 0.05008, Validation f1-score: 0.913\n",
      "Epoch: 71, Training loss: 0.04385, Validation loss: 0.05008, Validation f1-score: 0.913\n",
      "Epoch: 72, Training loss: 0.04406, Validation loss: 0.05008, Validation f1-score: 0.913\n",
      "Epoch: 73, Training loss: 0.04387, Validation loss: 0.05008, Validation f1-score: 0.913\n",
      "Epoch: 74, Training loss: 0.04388, Validation loss: 0.05008, Validation f1-score: 0.913\n",
      "Epoch: 75, Training loss: 0.04381, Validation loss: 0.05008, Validation f1-score: 0.913\n",
      "Epoch: 76, Training loss: 0.04397, Validation loss: 0.05008, Validation f1-score: 0.913\n",
      "Epoch: 77, Training loss: 0.04383, Validation loss: 0.05008, Validation f1-score: 0.913\n",
      "Epoch: 78, Training loss: 0.04399, Validation loss: 0.05008, Validation f1-score: 0.913\n",
      "Epoch: 79, Training loss: 0.04401, Validation loss: 0.05008, Validation f1-score: 0.913\n",
      "Epoch: 80, Training loss: 0.04405, Validation loss: 0.05008, Validation f1-score: 0.913\n",
      "Finished Training of Combined NN Model\n"
     ]
    },
    {
     "data": {
      "image/png": "[encoded data removed]",
      "text/plain": [
       "<Figure size 1080x288 with 1 Axes>"
      ]
     },
     "metadata": {
      "tags": []
     },
     "output_type": "display_data"
    },
    {
     "data": {
      "image/png": "[encoded data removed]",
      "text/plain": [
       "<Figure size 1080x288 with 1 Axes>"
      ]
     },
     "metadata": {
      "tags": []
     },
     "output_type": "display_data"
    }
   ],
   "source": [
    "\n",
    "#ckp_path = \"/content/SeqCheckPoint_59.pt\"  #Uncomment to load a check point \n",
    "#net, optimizer, start_epoch = load_ckp(ckp_path, net, optimizer) #Uncomment to load a check point \n",
    "\n",
    "#Uncomment for debugging\n",
    "#print(\"n_hidden\",n_hidden)\n",
    "#print(\"total_epoch\",total_epoch)\n",
    "#print(\"learning_rate\",learning_rate)\n",
    "#print(\"seq_batch_size\",seq_batch_size)\n",
    "\n",
    "\n",
    "for epoch in range(start_epoch,EPOCH_COMBINEDNN):\n",
    "    #if epoch < 10:  #Uncomment during debugging\n",
    "    #  print(\"Epoch \"+str(epoch)+\" Start Time:\"+datetime.datetime.now().strftime(\"%d-%m-%Y-%H-%M-%S\"))  \n",
    "    start_time = time.time()\n",
    "    combinednet.train()\n",
    "    running_loss = 0.0\n",
    "    for idx1,(input_batch_torch, target_batch_torch) in enumerate(train_combinedNN_loader):#tqdm(dataloaders_dict[phase],disable = True):\n",
    "      input_batch_torch = input_batch_torch.to(device)\n",
    "      target_batch_torch = target_batch_torch.to(device)\n",
    "      optimizer.zero_grad()\n",
    "      _,outputs = combinednet(input_batch_torch)#outputs,_ = combinednet(input_batch_torch)\n",
    "      loss = criterion(outputs, target_batch_torch)\n",
    "      loss.backward()\n",
    "      torch.nn.utils.clip_grad_norm_(combinednet.parameters(), 0.5)\n",
    "      optimizer.step()\n",
    "      running_loss += loss.item() * input_batch_torch.size(0)\n",
    "    trian_epoch_loss = running_loss / len(train_combinedNN_loader.dataset)\n",
    "\n",
    "\n",
    "    combinednet.eval()\n",
    "    all_output_labels = []\n",
    "    all_preds = []\n",
    "    running_loss = 0.0\n",
    "    for idx1,(input_batch_torch, target_batch_torch) in enumerate(val_combinedNN_loader):\n",
    "      all_output_labels.extend(target_batch_torch.numpy().tolist())\n",
    "      input_batch_torch = input_batch_torch.to(device)\n",
    "      target_batch_torch = target_batch_torch.to(device)\n",
    "      _,outputs = combinednet(input_batch_torch)#outputs,_ = combinednet(input_batch_torch)\n",
    "      all_preds.extend(torch.round(torch.sigmoid(outputs)).detach().cpu().numpy().tolist())\n",
    "\n",
    "      loss = criterion(outputs, target_batch_torch)\n",
    "      running_loss += loss.item() * input_batch_torch.size(0)\n",
    "\n",
    "    val_epoch_loss = running_loss / len(val_combinedNN_loader.dataset)\n",
    "    val_f1_score = f1_score(y_true=all_output_labels, y_pred=all_preds, average='samples')#cal_f1score(all_preds, all_output_labels)\n",
    "    \n",
    "    if val_f1_score > best_f1:\n",
    "      print(\"Info : model f1-score Improved from {:.8f} to {:.8f}\".format(best_f1,val_f1_score))\n",
    "      best_f1 = val_f1_score\n",
    "      best_model_wts3 = copy.deepcopy(combinednet.state_dict()) #Save weights of best f1\n",
    "\n",
    "    epoch_values.append(epoch+1) #Store epoch value for plotting\n",
    "    print('Epoch: %d, Training loss: %.5f, Validation loss: %.5f, Validation f1-score: %.3f' %(epoch + 1, trian_epoch_loss,val_epoch_loss, val_f1_score))\n",
    "    train_loss.append(trian_epoch_loss)\n",
    "    val_loss.append(val_epoch_loss)\n",
    "    val_fone.append(val_f1_score)\n",
    "\t\t\n",
    "    scheduler.step(val_epoch_loss)\n",
    "  \n",
    "\n",
    "print('Finished Training of Combined NN Model')\n",
    "\n",
    "plt.figure(figsize=(15,4))\n",
    "plt.plot(train_loss,label=\"Training loss\",color=\"green\")\n",
    "plt.plot(val_loss,label=\"Validation loss\",color=\"blue\")\n",
    "plt.xlabel(\"Epoch\")\n",
    "plt.ylabel(\"Loss\")\n",
    "plt.title(\"Epoch vs Loss\")\n",
    "plt.legend()\n",
    "plt.grid()\n",
    "plt.show()\n",
    "\n",
    "\n",
    "plt.figure(figsize=(15,4))\n",
    "plt.plot(val_fone,label=\"Validation f1-score\",color=\"green\")\n",
    "plt.xlabel(\"Epoch\")\n",
    "plt.ylabel(\"f1-score\")\n",
    "plt.title(\"Epoch vs f1-score\")\n",
    "plt.legend()\n",
    "plt.grid()\n",
    "plt.show()\n",
    "\n",
    "combinednet.load_state_dict(best_model_wts3)"
   ]
  },
  {
   "cell_type": "markdown",
   "metadata": {
    "colab_type": "text",
    "id": "4X0jFLPw-QaX"
   },
   "source": [
    "# Generate Predictions"
   ]
  },
  {
   "cell_type": "code",
   "execution_count": 51,
   "metadata": {
    "colab": {
     "base_uri": "https://localhost:8080/",
     "height": 56
    },
    "colab_type": "code",
    "id": "vAojPY_l_NB5",
    "outputId": "d3ac71f7-be52-4a98-8a44-946e852ee940"
   },
   "outputs": [
    {
     "name": "stdout",
     "output_type": "stream",
     "text": [
      "Predictions saved to /content/drive/My Drive/Code/output/Predicted_labels28-05-2020_06-05-11.txt\n"
     ]
    }
   ],
   "source": [
    "combinednet.eval()\n",
    "\n",
    "_,outputs = combinednet(torch.tensor(test_inputs_combinedNN,dtype= torch.float32).to(device))#outputs,_ = combinednet(input_batch_torch)\n",
    "predictions = torch.round(torch.sigmoid(outputs)).detach().cpu().numpy().tolist()\n",
    "\n",
    "\n",
    "predictions = np.array(predictions)\n",
    "\n",
    "predicted_class_idx = []\n",
    "for i in range(len(predictions)):         \n",
    "    idx_list = np.where(predictions[i] ==1)#> np.percentile(predictions[i],PERCENTILE))\n",
    "    #print(idx_list)\n",
    "    label_list = [index_to_label[y] for y in idx_list[0]]  #converting index to labels\n",
    "    predicted_class_idx.append(label_list)\n",
    "\t\n",
    "\t\n",
    "test['Labels'] = predicted_class_idx\n",
    "test['Labels'] = test['Labels'].apply(lambda x : ' '.join(map(str,list(x))))\n",
    "\n",
    "test_tosubmit = test.drop(\"Caption\",1)\n",
    "\n",
    "OUTPUT_FILENAME = PATH_TO_CODE_FOLDER +'output/Predicted_labels'+datetime.datetime.now().strftime(\"%d-%m-%Y_%H-%M-%S\")+'.txt'\n",
    "test_tosubmit.to_csv(OUTPUT_FILENAME,index = False)\n",
    "\n",
    "print(\"Predictions saved to\",OUTPUT_FILENAME)"
   ]
  }
 ],
 "metadata": {
  "accelerator": "GPU",
  "colab": {
   "collapsed_sections": [],
   "machine_shape": "hm",
   "name": "Final 87.7_submision_COMP5329_Ass2_LoadModel.ipynb",
   "provenance": [],
   "toc_visible": true
  },
  "kernelspec": {
   "display_name": "Python 3",
   "language": "python",
   "name": "python3"
  },
  "language_info": {
   "codemirror_mode": {
    "name": "ipython",
    "version": 3
   },
   "file_extension": ".py",
   "mimetype": "text/x-python",
   "name": "python",
   "nbconvert_exporter": "python",
   "pygments_lexer": "ipython3",
   "version": "3.7.6"
  },
  "widgets": {
   "application/vnd.jupyter.widget-state+json": {
    "15d61dce625747149bb388900bbc777e": {
     "model_module": "@jupyter-widgets/base",
     "model_name": "LayoutModel",
     "state": {
      "_model_module": "@jupyter-widgets/base",
      "_model_module_version": "1.2.0",
      "_model_name": "LayoutModel",
      "_view_count": null,
      "_view_module": "@jupyter-widgets/base",
      "_view_module_version": "1.2.0",
      "_view_name": "LayoutView",
      "align_content": null,
      "align_items": null,
      "align_self": null,
      "border": null,
      "bottom": null,
      "display": null,
      "flex": null,
      "flex_flow": null,
      "grid_area": null,
      "grid_auto_columns": null,
      "grid_auto_flow": null,
      "grid_auto_rows": null,
      "grid_column": null,
      "grid_gap": null,
      "grid_row": null,
      "grid_template_areas": null,
      "grid_template_columns": null,
      "grid_template_rows": null,
      "height": null,
      "justify_content": null,
      "justify_items": null,
      "left": null,
      "margin": null,
      "max_height": null,
      "max_width": null,
      "min_height": null,
      "min_width": null,
      "object_fit": null,
      "object_position": null,
      "order": null,
      "overflow": null,
      "overflow_x": null,
      "overflow_y": null,
      "padding": null,
      "right": null,
      "top": null,
      "visibility": null,
      "width": null
     }
    },
    "24f1909a4b4f4c81b9e9ba0ac1595c28": {
     "model_module": "@jupyter-widgets/controls",
     "model_name": "ProgressStyleModel",
     "state": {
      "_model_module": "@jupyter-widgets/controls",
      "_model_module_version": "1.5.0",
      "_model_name": "ProgressStyleModel",
      "_view_count": null,
      "_view_module": "@jupyter-widgets/base",
      "_view_module_version": "1.2.0",
      "_view_name": "StyleView",
      "bar_color": null,
      "description_width": "initial"
     }
    },
    "2add4b59a1d0482384a0aa3523893245": {
     "model_module": "@jupyter-widgets/controls",
     "model_name": "HBoxModel",
     "state": {
      "_dom_classes": [],
      "_model_module": "@jupyter-widgets/controls",
      "_model_module_version": "1.5.0",
      "_model_name": "HBoxModel",
      "_view_count": null,
      "_view_module": "@jupyter-widgets/controls",
      "_view_module_version": "1.5.0",
      "_view_name": "HBoxView",
      "box_style": "",
      "children": [
       "IPY_MODEL_d4a60d8cde744384b0f18c1da3a5a205",
       "IPY_MODEL_69272223b58b48e7b5e49deecf7a4eea"
      ],
      "layout": "IPY_MODEL_6622b1a47dbd4fe6ac5ec86757dead68"
     }
    },
    "38522944ec504cd484f3acc993dab88d": {
     "model_module": "@jupyter-widgets/base",
     "model_name": "LayoutModel",
     "state": {
      "_model_module": "@jupyter-widgets/base",
      "_model_module_version": "1.2.0",
      "_model_name": "LayoutModel",
      "_view_count": null,
      "_view_module": "@jupyter-widgets/base",
      "_view_module_version": "1.2.0",
      "_view_name": "LayoutView",
      "align_content": null,
      "align_items": null,
      "align_self": null,
      "border": null,
      "bottom": null,
      "display": null,
      "flex": null,
      "flex_flow": null,
      "grid_area": null,
      "grid_auto_columns": null,
      "grid_auto_flow": null,
      "grid_auto_rows": null,
      "grid_column": null,
      "grid_gap": null,
      "grid_row": null,
      "grid_template_areas": null,
      "grid_template_columns": null,
      "grid_template_rows": null,
      "height": null,
      "justify_content": null,
      "justify_items": null,
      "left": null,
      "margin": null,
      "max_height": null,
      "max_width": null,
      "min_height": null,
      "min_width": null,
      "object_fit": null,
      "object_position": null,
      "order": null,
      "overflow": null,
      "overflow_x": null,
      "overflow_y": null,
      "padding": null,
      "right": null,
      "top": null,
      "visibility": null,
      "width": null
     }
    },
    "62f1c50198984d0cacd1a878b702e452": {
     "model_module": "@jupyter-widgets/controls",
     "model_name": "DescriptionStyleModel",
     "state": {
      "_model_module": "@jupyter-widgets/controls",
      "_model_module_version": "1.5.0",
      "_model_name": "DescriptionStyleModel",
      "_view_count": null,
      "_view_module": "@jupyter-widgets/base",
      "_view_module_version": "1.2.0",
      "_view_name": "StyleView",
      "description_width": ""
     }
    },
    "6622b1a47dbd4fe6ac5ec86757dead68": {
     "model_module": "@jupyter-widgets/base",
     "model_name": "LayoutModel",
     "state": {
      "_model_module": "@jupyter-widgets/base",
      "_model_module_version": "1.2.0",
      "_model_name": "LayoutModel",
      "_view_count": null,
      "_view_module": "@jupyter-widgets/base",
      "_view_module_version": "1.2.0",
      "_view_name": "LayoutView",
      "align_content": null,
      "align_items": null,
      "align_self": null,
      "border": null,
      "bottom": null,
      "display": null,
      "flex": null,
      "flex_flow": null,
      "grid_area": null,
      "grid_auto_columns": null,
      "grid_auto_flow": null,
      "grid_auto_rows": null,
      "grid_column": null,
      "grid_gap": null,
      "grid_row": null,
      "grid_template_areas": null,
      "grid_template_columns": null,
      "grid_template_rows": null,
      "height": null,
      "justify_content": null,
      "justify_items": null,
      "left": null,
      "margin": null,
      "max_height": null,
      "max_width": null,
      "min_height": null,
      "min_width": null,
      "object_fit": null,
      "object_position": null,
      "order": null,
      "overflow": null,
      "overflow_x": null,
      "overflow_y": null,
      "padding": null,
      "right": null,
      "top": null,
      "visibility": null,
      "width": null
     }
    },
    "69272223b58b48e7b5e49deecf7a4eea": {
     "model_module": "@jupyter-widgets/controls",
     "model_name": "HTMLModel",
     "state": {
      "_dom_classes": [],
      "_model_module": "@jupyter-widgets/controls",
      "_model_module_version": "1.5.0",
      "_model_name": "HTMLModel",
      "_view_count": null,
      "_view_module": "@jupyter-widgets/controls",
      "_view_module_version": "1.5.0",
      "_view_name": "HTMLView",
      "description": "",
      "description_tooltip": null,
      "layout": "IPY_MODEL_15d61dce625747149bb388900bbc777e",
      "placeholder": "​",
      "style": "IPY_MODEL_62f1c50198984d0cacd1a878b702e452",
      "value": " 97.8M/97.8M [02:22&lt;00:00, 718kB/s]"
     }
    },
    "d4a60d8cde744384b0f18c1da3a5a205": {
     "model_module": "@jupyter-widgets/controls",
     "model_name": "FloatProgressModel",
     "state": {
      "_dom_classes": [],
      "_model_module": "@jupyter-widgets/controls",
      "_model_module_version": "1.5.0",
      "_model_name": "FloatProgressModel",
      "_view_count": null,
      "_view_module": "@jupyter-widgets/controls",
      "_view_module_version": "1.5.0",
      "_view_name": "ProgressView",
      "bar_style": "success",
      "description": "100%",
      "description_tooltip": null,
      "layout": "IPY_MODEL_38522944ec504cd484f3acc993dab88d",
      "max": 102502400,
      "min": 0,
      "orientation": "horizontal",
      "style": "IPY_MODEL_24f1909a4b4f4c81b9e9ba0ac1595c28",
      "value": 102502400
     }
    }
   }
  }
 },
 "nbformat": 4,
 "nbformat_minor": 1
}
